{
  "nbformat": 4,
  "nbformat_minor": 0,
  "metadata": {
    "colab": {
      "provenance": []
    },
    "kernelspec": {
      "name": "python3",
      "display_name": "Python 3"
    },
    "language_info": {
      "name": "python"
    }
  },
  "cells": [
    {
      "cell_type": "markdown",
      "source": [
        "#Task 1 Data Engineer"
      ],
      "metadata": {
        "id": "BIQCh6Z-4Z6v"
      }
    },
    {
      "cell_type": "markdown",
      "source": [
        "##1.Google Colab Setup"
      ],
      "metadata": {
        "id": "HhkGdIOWO_RF"
      }
    },
    {
      "cell_type": "code",
      "execution_count": 1,
      "metadata": {
        "colab": {
          "base_uri": "https://localhost:8080/"
        },
        "id": "UBMsy78wO47l",
        "outputId": "e6de5651-76eb-4eff-b6d6-05fc287a7f3e"
      },
      "outputs": [
        {
          "output_type": "stream",
          "name": "stdout",
          "text": [
            "Mounted at /content/drive\n",
            "/content/drive/My Drive/AnimalSubspeciesDataset\n"
          ]
        }
      ],
      "source": [
        "# Mount Google Drive\n",
        "from google.colab import drive\n",
        "drive.mount('/content/drive')\n",
        "\n",
        "# Create a directory for your project data in Google Drive\n",
        "import os\n",
        "project_path = '/content/drive/My Drive/AnimalSubspeciesDataset'\n",
        "os.makedirs(project_path, exist_ok=True)\n",
        "%cd {project_path}"
      ]
    },
    {
      "cell_type": "markdown",
      "source": [
        "##2.Data Collection (Web Crawling)"
      ],
      "metadata": {
        "id": "Bd3lrm4lPGlf"
      }
    },
    {
      "cell_type": "markdown",
      "source": [
        "**Web scraping techniques can be used to gather a huge number of photos for particular classes.  Jmd_imagescraper (DuckDuckGo Image Scraper) is a handy library for Google Colab that makes the procedure easier.**"
      ],
      "metadata": {
        "id": "HKYOuS5r5IYN"
      }
    },
    {
      "cell_type": "markdown",
      "source": [
        "**Steps for Data Collection:**"
      ],
      "metadata": {
        "id": "NyFxsTLl5r7G"
      }
    },
    {
      "cell_type": "markdown",
      "source": [
        "*   Install jmd_imagescraper:"
      ],
      "metadata": {
        "id": "RbPRKhQU6SKF"
      }
    },
    {
      "cell_type": "code",
      "source": [
        "!pip install jmd_imagescraper"
      ],
      "metadata": {
        "id": "f7g3ONzWPIzf",
        "colab": {
          "base_uri": "https://localhost:8080/"
        },
        "collapsed": true,
        "outputId": "e223849b-43e1-4535-e9aa-37b9700c524c"
      },
      "execution_count": 2,
      "outputs": [
        {
          "output_type": "stream",
          "name": "stdout",
          "text": [
            "Collecting jmd_imagescraper\n",
            "  Downloading jmd_imagescraper-1.0.2-py3-none-any.whl.metadata (2.2 kB)\n",
            "Requirement already satisfied: Pillow in /usr/local/lib/python3.11/dist-packages (from jmd_imagescraper) (11.2.1)\n",
            "Collecting bs4 (from jmd_imagescraper)\n",
            "  Downloading bs4-0.0.2-py2.py3-none-any.whl.metadata (411 bytes)\n",
            "Requirement already satisfied: fastprogress in /usr/local/lib/python3.11/dist-packages (from jmd_imagescraper) (1.0.3)\n",
            "Requirement already satisfied: ipywidgets in /usr/local/lib/python3.11/dist-packages (from jmd_imagescraper) (7.7.1)\n",
            "Requirement already satisfied: pandas in /usr/local/lib/python3.11/dist-packages (from jmd_imagescraper) (2.2.2)\n",
            "Requirement already satisfied: pathlib in /usr/local/lib/python3.11/dist-packages (from jmd_imagescraper) (1.0.1)\n",
            "Requirement already satisfied: requests in /usr/local/lib/python3.11/dist-packages (from jmd_imagescraper) (2.32.3)\n",
            "Requirement already satisfied: beautifulsoup4 in /usr/local/lib/python3.11/dist-packages (from bs4->jmd_imagescraper) (4.13.4)\n",
            "Requirement already satisfied: ipykernel>=4.5.1 in /usr/local/lib/python3.11/dist-packages (from ipywidgets->jmd_imagescraper) (6.17.1)\n",
            "Requirement already satisfied: ipython-genutils~=0.2.0 in /usr/local/lib/python3.11/dist-packages (from ipywidgets->jmd_imagescraper) (0.2.0)\n",
            "Requirement already satisfied: traitlets>=4.3.1 in /usr/local/lib/python3.11/dist-packages (from ipywidgets->jmd_imagescraper) (5.7.1)\n",
            "Requirement already satisfied: widgetsnbextension~=3.6.0 in /usr/local/lib/python3.11/dist-packages (from ipywidgets->jmd_imagescraper) (3.6.10)\n",
            "Requirement already satisfied: ipython>=4.0.0 in /usr/local/lib/python3.11/dist-packages (from ipywidgets->jmd_imagescraper) (7.34.0)\n",
            "Requirement already satisfied: jupyterlab-widgets>=1.0.0 in /usr/local/lib/python3.11/dist-packages (from ipywidgets->jmd_imagescraper) (3.0.15)\n",
            "Requirement already satisfied: numpy>=1.23.2 in /usr/local/lib/python3.11/dist-packages (from pandas->jmd_imagescraper) (2.0.2)\n",
            "Requirement already satisfied: python-dateutil>=2.8.2 in /usr/local/lib/python3.11/dist-packages (from pandas->jmd_imagescraper) (2.9.0.post0)\n",
            "Requirement already satisfied: pytz>=2020.1 in /usr/local/lib/python3.11/dist-packages (from pandas->jmd_imagescraper) (2025.2)\n",
            "Requirement already satisfied: tzdata>=2022.7 in /usr/local/lib/python3.11/dist-packages (from pandas->jmd_imagescraper) (2025.2)\n",
            "Requirement already satisfied: charset-normalizer<4,>=2 in /usr/local/lib/python3.11/dist-packages (from requests->jmd_imagescraper) (3.4.2)\n",
            "Requirement already satisfied: idna<4,>=2.5 in /usr/local/lib/python3.11/dist-packages (from requests->jmd_imagescraper) (3.10)\n",
            "Requirement already satisfied: urllib3<3,>=1.21.1 in /usr/local/lib/python3.11/dist-packages (from requests->jmd_imagescraper) (2.4.0)\n",
            "Requirement already satisfied: certifi>=2017.4.17 in /usr/local/lib/python3.11/dist-packages (from requests->jmd_imagescraper) (2025.4.26)\n",
            "Requirement already satisfied: debugpy>=1.0 in /usr/local/lib/python3.11/dist-packages (from ipykernel>=4.5.1->ipywidgets->jmd_imagescraper) (1.8.0)\n",
            "Requirement already satisfied: jupyter-client>=6.1.12 in /usr/local/lib/python3.11/dist-packages (from ipykernel>=4.5.1->ipywidgets->jmd_imagescraper) (6.1.12)\n",
            "Requirement already satisfied: matplotlib-inline>=0.1 in /usr/local/lib/python3.11/dist-packages (from ipykernel>=4.5.1->ipywidgets->jmd_imagescraper) (0.1.7)\n",
            "Requirement already satisfied: nest-asyncio in /usr/local/lib/python3.11/dist-packages (from ipykernel>=4.5.1->ipywidgets->jmd_imagescraper) (1.6.0)\n",
            "Requirement already satisfied: packaging in /usr/local/lib/python3.11/dist-packages (from ipykernel>=4.5.1->ipywidgets->jmd_imagescraper) (24.2)\n",
            "Requirement already satisfied: psutil in /usr/local/lib/python3.11/dist-packages (from ipykernel>=4.5.1->ipywidgets->jmd_imagescraper) (5.9.5)\n",
            "Requirement already satisfied: pyzmq>=17 in /usr/local/lib/python3.11/dist-packages (from ipykernel>=4.5.1->ipywidgets->jmd_imagescraper) (24.0.1)\n",
            "Requirement already satisfied: tornado>=6.1 in /usr/local/lib/python3.11/dist-packages (from ipykernel>=4.5.1->ipywidgets->jmd_imagescraper) (6.4.2)\n",
            "Requirement already satisfied: setuptools>=18.5 in /usr/local/lib/python3.11/dist-packages (from ipython>=4.0.0->ipywidgets->jmd_imagescraper) (75.2.0)\n",
            "Collecting jedi>=0.16 (from ipython>=4.0.0->ipywidgets->jmd_imagescraper)\n",
            "  Downloading jedi-0.19.2-py2.py3-none-any.whl.metadata (22 kB)\n",
            "Requirement already satisfied: decorator in /usr/local/lib/python3.11/dist-packages (from ipython>=4.0.0->ipywidgets->jmd_imagescraper) (4.4.2)\n",
            "Requirement already satisfied: pickleshare in /usr/local/lib/python3.11/dist-packages (from ipython>=4.0.0->ipywidgets->jmd_imagescraper) (0.7.5)\n",
            "Requirement already satisfied: prompt-toolkit!=3.0.0,!=3.0.1,<3.1.0,>=2.0.0 in /usr/local/lib/python3.11/dist-packages (from ipython>=4.0.0->ipywidgets->jmd_imagescraper) (3.0.51)\n",
            "Requirement already satisfied: pygments in /usr/local/lib/python3.11/dist-packages (from ipython>=4.0.0->ipywidgets->jmd_imagescraper) (2.19.1)\n",
            "Requirement already satisfied: backcall in /usr/local/lib/python3.11/dist-packages (from ipython>=4.0.0->ipywidgets->jmd_imagescraper) (0.2.0)\n",
            "Requirement already satisfied: pexpect>4.3 in /usr/local/lib/python3.11/dist-packages (from ipython>=4.0.0->ipywidgets->jmd_imagescraper) (4.9.0)\n",
            "Requirement already satisfied: six>=1.5 in /usr/local/lib/python3.11/dist-packages (from python-dateutil>=2.8.2->pandas->jmd_imagescraper) (1.17.0)\n",
            "Requirement already satisfied: notebook>=4.4.1 in /usr/local/lib/python3.11/dist-packages (from widgetsnbextension~=3.6.0->ipywidgets->jmd_imagescraper) (6.5.7)\n",
            "Requirement already satisfied: soupsieve>1.2 in /usr/local/lib/python3.11/dist-packages (from beautifulsoup4->bs4->jmd_imagescraper) (2.7)\n",
            "Requirement already satisfied: typing-extensions>=4.0.0 in /usr/local/lib/python3.11/dist-packages (from beautifulsoup4->bs4->jmd_imagescraper) (4.13.2)\n",
            "Requirement already satisfied: parso<0.9.0,>=0.8.4 in /usr/local/lib/python3.11/dist-packages (from jedi>=0.16->ipython>=4.0.0->ipywidgets->jmd_imagescraper) (0.8.4)\n",
            "Requirement already satisfied: jupyter-core>=4.6.0 in /usr/local/lib/python3.11/dist-packages (from jupyter-client>=6.1.12->ipykernel>=4.5.1->ipywidgets->jmd_imagescraper) (5.8.1)\n",
            "Requirement already satisfied: jinja2 in /usr/local/lib/python3.11/dist-packages (from notebook>=4.4.1->widgetsnbextension~=3.6.0->ipywidgets->jmd_imagescraper) (3.1.6)\n",
            "Requirement already satisfied: argon2-cffi in /usr/local/lib/python3.11/dist-packages (from notebook>=4.4.1->widgetsnbextension~=3.6.0->ipywidgets->jmd_imagescraper) (23.1.0)\n",
            "Requirement already satisfied: nbformat in /usr/local/lib/python3.11/dist-packages (from notebook>=4.4.1->widgetsnbextension~=3.6.0->ipywidgets->jmd_imagescraper) (5.10.4)\n",
            "Requirement already satisfied: nbconvert>=5 in /usr/local/lib/python3.11/dist-packages (from notebook>=4.4.1->widgetsnbextension~=3.6.0->ipywidgets->jmd_imagescraper) (7.16.6)\n",
            "Requirement already satisfied: Send2Trash>=1.8.0 in /usr/local/lib/python3.11/dist-packages (from notebook>=4.4.1->widgetsnbextension~=3.6.0->ipywidgets->jmd_imagescraper) (1.8.3)\n",
            "Requirement already satisfied: terminado>=0.8.3 in /usr/local/lib/python3.11/dist-packages (from notebook>=4.4.1->widgetsnbextension~=3.6.0->ipywidgets->jmd_imagescraper) (0.18.1)\n",
            "Requirement already satisfied: prometheus-client in /usr/local/lib/python3.11/dist-packages (from notebook>=4.4.1->widgetsnbextension~=3.6.0->ipywidgets->jmd_imagescraper) (0.22.0)\n",
            "Requirement already satisfied: nbclassic>=0.4.7 in /usr/local/lib/python3.11/dist-packages (from notebook>=4.4.1->widgetsnbextension~=3.6.0->ipywidgets->jmd_imagescraper) (1.3.1)\n",
            "Requirement already satisfied: ptyprocess>=0.5 in /usr/local/lib/python3.11/dist-packages (from pexpect>4.3->ipython>=4.0.0->ipywidgets->jmd_imagescraper) (0.7.0)\n",
            "Requirement already satisfied: wcwidth in /usr/local/lib/python3.11/dist-packages (from prompt-toolkit!=3.0.0,!=3.0.1,<3.1.0,>=2.0.0->ipython>=4.0.0->ipywidgets->jmd_imagescraper) (0.2.13)\n",
            "Requirement already satisfied: platformdirs>=2.5 in /usr/local/lib/python3.11/dist-packages (from jupyter-core>=4.6.0->jupyter-client>=6.1.12->ipykernel>=4.5.1->ipywidgets->jmd_imagescraper) (4.3.8)\n",
            "Requirement already satisfied: notebook-shim>=0.2.3 in /usr/local/lib/python3.11/dist-packages (from nbclassic>=0.4.7->notebook>=4.4.1->widgetsnbextension~=3.6.0->ipywidgets->jmd_imagescraper) (0.2.4)\n",
            "Requirement already satisfied: bleach!=5.0.0 in /usr/local/lib/python3.11/dist-packages (from bleach[css]!=5.0.0->nbconvert>=5->notebook>=4.4.1->widgetsnbextension~=3.6.0->ipywidgets->jmd_imagescraper) (6.2.0)\n",
            "Requirement already satisfied: defusedxml in /usr/local/lib/python3.11/dist-packages (from nbconvert>=5->notebook>=4.4.1->widgetsnbextension~=3.6.0->ipywidgets->jmd_imagescraper) (0.7.1)\n",
            "Requirement already satisfied: jupyterlab-pygments in /usr/local/lib/python3.11/dist-packages (from nbconvert>=5->notebook>=4.4.1->widgetsnbextension~=3.6.0->ipywidgets->jmd_imagescraper) (0.3.0)\n",
            "Requirement already satisfied: markupsafe>=2.0 in /usr/local/lib/python3.11/dist-packages (from nbconvert>=5->notebook>=4.4.1->widgetsnbextension~=3.6.0->ipywidgets->jmd_imagescraper) (3.0.2)\n",
            "Requirement already satisfied: mistune<4,>=2.0.3 in /usr/local/lib/python3.11/dist-packages (from nbconvert>=5->notebook>=4.4.1->widgetsnbextension~=3.6.0->ipywidgets->jmd_imagescraper) (3.1.3)\n",
            "Requirement already satisfied: nbclient>=0.5.0 in /usr/local/lib/python3.11/dist-packages (from nbconvert>=5->notebook>=4.4.1->widgetsnbextension~=3.6.0->ipywidgets->jmd_imagescraper) (0.10.2)\n",
            "Requirement already satisfied: pandocfilters>=1.4.1 in /usr/local/lib/python3.11/dist-packages (from nbconvert>=5->notebook>=4.4.1->widgetsnbextension~=3.6.0->ipywidgets->jmd_imagescraper) (1.5.1)\n",
            "Requirement already satisfied: fastjsonschema>=2.15 in /usr/local/lib/python3.11/dist-packages (from nbformat->notebook>=4.4.1->widgetsnbextension~=3.6.0->ipywidgets->jmd_imagescraper) (2.21.1)\n",
            "Requirement already satisfied: jsonschema>=2.6 in /usr/local/lib/python3.11/dist-packages (from nbformat->notebook>=4.4.1->widgetsnbextension~=3.6.0->ipywidgets->jmd_imagescraper) (4.24.0)\n",
            "Requirement already satisfied: argon2-cffi-bindings in /usr/local/lib/python3.11/dist-packages (from argon2-cffi->notebook>=4.4.1->widgetsnbextension~=3.6.0->ipywidgets->jmd_imagescraper) (21.2.0)\n",
            "Requirement already satisfied: webencodings in /usr/local/lib/python3.11/dist-packages (from bleach!=5.0.0->bleach[css]!=5.0.0->nbconvert>=5->notebook>=4.4.1->widgetsnbextension~=3.6.0->ipywidgets->jmd_imagescraper) (0.5.1)\n",
            "Requirement already satisfied: tinycss2<1.5,>=1.1.0 in /usr/local/lib/python3.11/dist-packages (from bleach[css]!=5.0.0->nbconvert>=5->notebook>=4.4.1->widgetsnbextension~=3.6.0->ipywidgets->jmd_imagescraper) (1.4.0)\n",
            "Requirement already satisfied: attrs>=22.2.0 in /usr/local/lib/python3.11/dist-packages (from jsonschema>=2.6->nbformat->notebook>=4.4.1->widgetsnbextension~=3.6.0->ipywidgets->jmd_imagescraper) (25.3.0)\n",
            "Requirement already satisfied: jsonschema-specifications>=2023.03.6 in /usr/local/lib/python3.11/dist-packages (from jsonschema>=2.6->nbformat->notebook>=4.4.1->widgetsnbextension~=3.6.0->ipywidgets->jmd_imagescraper) (2025.4.1)\n",
            "Requirement already satisfied: referencing>=0.28.4 in /usr/local/lib/python3.11/dist-packages (from jsonschema>=2.6->nbformat->notebook>=4.4.1->widgetsnbextension~=3.6.0->ipywidgets->jmd_imagescraper) (0.36.2)\n",
            "Requirement already satisfied: rpds-py>=0.7.1 in /usr/local/lib/python3.11/dist-packages (from jsonschema>=2.6->nbformat->notebook>=4.4.1->widgetsnbextension~=3.6.0->ipywidgets->jmd_imagescraper) (0.25.1)\n",
            "Requirement already satisfied: jupyter-server<3,>=1.8 in /usr/local/lib/python3.11/dist-packages (from notebook-shim>=0.2.3->nbclassic>=0.4.7->notebook>=4.4.1->widgetsnbextension~=3.6.0->ipywidgets->jmd_imagescraper) (1.16.0)\n",
            "Requirement already satisfied: cffi>=1.0.1 in /usr/local/lib/python3.11/dist-packages (from argon2-cffi-bindings->argon2-cffi->notebook>=4.4.1->widgetsnbextension~=3.6.0->ipywidgets->jmd_imagescraper) (1.17.1)\n",
            "Requirement already satisfied: pycparser in /usr/local/lib/python3.11/dist-packages (from cffi>=1.0.1->argon2-cffi-bindings->argon2-cffi->notebook>=4.4.1->widgetsnbextension~=3.6.0->ipywidgets->jmd_imagescraper) (2.22)\n",
            "Requirement already satisfied: anyio>=3.1.0 in /usr/local/lib/python3.11/dist-packages (from jupyter-server<3,>=1.8->notebook-shim>=0.2.3->nbclassic>=0.4.7->notebook>=4.4.1->widgetsnbextension~=3.6.0->ipywidgets->jmd_imagescraper) (4.9.0)\n",
            "Requirement already satisfied: websocket-client in /usr/local/lib/python3.11/dist-packages (from jupyter-server<3,>=1.8->notebook-shim>=0.2.3->nbclassic>=0.4.7->notebook>=4.4.1->widgetsnbextension~=3.6.0->ipywidgets->jmd_imagescraper) (1.8.0)\n",
            "Requirement already satisfied: sniffio>=1.1 in /usr/local/lib/python3.11/dist-packages (from anyio>=3.1.0->jupyter-server<3,>=1.8->notebook-shim>=0.2.3->nbclassic>=0.4.7->notebook>=4.4.1->widgetsnbextension~=3.6.0->ipywidgets->jmd_imagescraper) (1.3.1)\n",
            "Downloading jmd_imagescraper-1.0.2-py3-none-any.whl (12 kB)\n",
            "Downloading bs4-0.0.2-py2.py3-none-any.whl (1.2 kB)\n",
            "Downloading jedi-0.19.2-py2.py3-none-any.whl (1.6 MB)\n",
            "\u001b[2K   \u001b[90m━━━━━━━━━━━━━━━━━━━━━━━━━━━━━━━━━━━━━━━━\u001b[0m \u001b[32m1.6/1.6 MB\u001b[0m \u001b[31m21.8 MB/s\u001b[0m eta \u001b[36m0:00:00\u001b[0m\n",
            "\u001b[?25hInstalling collected packages: jedi, bs4, jmd_imagescraper\n",
            "Successfully installed bs4-0.0.2 jedi-0.19.2 jmd_imagescraper-1.0.2\n"
          ]
        }
      ]
    },
    {
      "cell_type": "markdown",
      "source": [
        "*   Import necessary libraries:"
      ],
      "metadata": {
        "id": "T6UpSzlMPbXR"
      }
    },
    {
      "cell_type": "code",
      "source": [
        "from pathlib import Path\n",
        "from jmd_imagescraper.core import * #"
      ],
      "metadata": {
        "id": "pRI-QCP1Pcsn"
      },
      "execution_count": 3,
      "outputs": []
    },
    {
      "cell_type": "markdown",
      "source": [
        "##3.Define your classes and download images: For each of your chosen animal subspecies"
      ],
      "metadata": {
        "id": "6XT8BThGPeaD"
      }
    },
    {
      "cell_type": "code",
      "source": [
        "root = Path().cwd()/\"images\" # This will create an 'images' folder in your project_path\n",
        "os.makedirs(root, exist_ok=True) # Ensure the root directory exists\n",
        "\n",
        "# Class 1: Golden Retriever\n",
        "duckduckgo_search(root, \"Golden_Retriever\", \"golden retriever dog\", max_results=1500)\n",
        "\n",
        "# Class 2: Siamese Cat\n",
        "duckduckgo_search(root, \"Siamese_Cat\", \"siamese cat\", max_results=1500)\n",
        "\n",
        "# Class 3: Bengal Tiger\n",
        "duckduckgo_search(root, \"Bengal_Tiger\", \"bengal tiger animal\", max_results=1500)\n",
        "\n",
        "# Class 4: African Elephant\n",
        "duckduckgo_search(root, \"African_Elephant\", \"african elephant animal\", max_results=1500)\n",
        "\n",
        "# Class 5: Emperor Penguin\n",
        "duckduckgo_search(root, \"Emperor_Penguin\", \"emperor penguin bird\", max_results=1500)\n",
        "\n",
        "# Class 6: Red Panda\n",
        "duckduckgo_search(root, \"Red_Panda\", \"red panda animal\", max_results=1500)\n",
        "\n",
        "# Class 7: Blue Jay\n",
        "duckduckgo_search(root, \"Blue_Jay\", \"blue jay bird\", max_results=1500)\n",
        "\n",
        "# Class 8: Grizzly Bear\n",
        "duckduckgo_search(root, \"Grizzly_Bear\", \"grizzly bear animal\", max_results=1500)"
      ],
      "metadata": {
        "id": "Rn_S7fWKPhIy",
        "colab": {
          "base_uri": "https://localhost:8080/",
          "height": 1000
        },
        "collapsed": true,
        "outputId": "38d9aee9-315a-47bb-93cd-8ae6a3a3e4e6"
      },
      "execution_count": 4,
      "outputs": [
        {
          "output_type": "stream",
          "name": "stdout",
          "text": [
            "Duckduckgo search: golden retriever dog\n",
            "Downloading results into /content/drive/MyDrive/AnimalSubspeciesDataset/images/Golden_Retriever\n"
          ]
        },
        {
          "output_type": "display_data",
          "data": {
            "text/plain": [
              "<IPython.core.display.HTML object>"
            ],
            "text/html": [
              "\n",
              "<style>\n",
              "    /* Turns off some styling */\n",
              "    progress {\n",
              "        /* gets rid of default border in Firefox and Opera. */\n",
              "        border: none;\n",
              "        /* Needs to be in here for Safari polyfill so background images work as expected. */\n",
              "        background-size: auto;\n",
              "    }\n",
              "    progress:not([value]), progress:not([value])::-webkit-progress-bar {\n",
              "        background: repeating-linear-gradient(45deg, #7e7e7e, #7e7e7e 10px, #5c5c5c 10px, #5c5c5c 20px);\n",
              "    }\n",
              "    .progress-bar-interrupted, .progress-bar-interrupted::-webkit-progress-bar {\n",
              "        background: #F44336;\n",
              "    }\n",
              "</style>\n"
            ]
          },
          "metadata": {}
        },
        {
          "output_type": "display_data",
          "data": {
            "text/plain": [
              "<IPython.core.display.HTML object>"
            ],
            "text/html": [
              "\n",
              "    <div>\n",
              "      <progress value='308' class='' max='308' style='width:300px; height:20px; vertical-align: middle;'></progress>\n",
              "      100.00% [308/308 00:30&lt;00:00 Images downloaded]\n",
              "    </div>\n",
              "    "
            ]
          },
          "metadata": {}
        },
        {
          "output_type": "stream",
          "name": "stdout",
          "text": [
            "Duckduckgo search: siamese cat\n",
            "Downloading results into /content/drive/MyDrive/AnimalSubspeciesDataset/images/Siamese_Cat\n"
          ]
        },
        {
          "output_type": "display_data",
          "data": {
            "text/plain": [
              "<IPython.core.display.HTML object>"
            ],
            "text/html": [
              "\n",
              "<style>\n",
              "    /* Turns off some styling */\n",
              "    progress {\n",
              "        /* gets rid of default border in Firefox and Opera. */\n",
              "        border: none;\n",
              "        /* Needs to be in here for Safari polyfill so background images work as expected. */\n",
              "        background-size: auto;\n",
              "    }\n",
              "    progress:not([value]), progress:not([value])::-webkit-progress-bar {\n",
              "        background: repeating-linear-gradient(45deg, #7e7e7e, #7e7e7e 10px, #5c5c5c 10px, #5c5c5c 20px);\n",
              "    }\n",
              "    .progress-bar-interrupted, .progress-bar-interrupted::-webkit-progress-bar {\n",
              "        background: #F44336;\n",
              "    }\n",
              "</style>\n"
            ]
          },
          "metadata": {}
        },
        {
          "output_type": "display_data",
          "data": {
            "text/plain": [
              "<IPython.core.display.HTML object>"
            ],
            "text/html": [
              "\n",
              "    <div>\n",
              "      <progress value='344' class='' max='344' style='width:300px; height:20px; vertical-align: middle;'></progress>\n",
              "      100.00% [344/344 00:32&lt;00:00 Images downloaded]\n",
              "    </div>\n",
              "    "
            ]
          },
          "metadata": {}
        },
        {
          "output_type": "stream",
          "name": "stdout",
          "text": [
            "Duckduckgo search: bengal tiger animal\n",
            "Downloading results into /content/drive/MyDrive/AnimalSubspeciesDataset/images/Bengal_Tiger\n"
          ]
        },
        {
          "output_type": "display_data",
          "data": {
            "text/plain": [
              "<IPython.core.display.HTML object>"
            ],
            "text/html": [
              "\n",
              "<style>\n",
              "    /* Turns off some styling */\n",
              "    progress {\n",
              "        /* gets rid of default border in Firefox and Opera. */\n",
              "        border: none;\n",
              "        /* Needs to be in here for Safari polyfill so background images work as expected. */\n",
              "        background-size: auto;\n",
              "    }\n",
              "    progress:not([value]), progress:not([value])::-webkit-progress-bar {\n",
              "        background: repeating-linear-gradient(45deg, #7e7e7e, #7e7e7e 10px, #5c5c5c 10px, #5c5c5c 20px);\n",
              "    }\n",
              "    .progress-bar-interrupted, .progress-bar-interrupted::-webkit-progress-bar {\n",
              "        background: #F44336;\n",
              "    }\n",
              "</style>\n"
            ]
          },
          "metadata": {}
        },
        {
          "output_type": "display_data",
          "data": {
            "text/plain": [
              "<IPython.core.display.HTML object>"
            ],
            "text/html": [
              "\n",
              "    <div>\n",
              "      <progress value='480' class='' max='480' style='width:300px; height:20px; vertical-align: middle;'></progress>\n",
              "      100.00% [480/480 00:45&lt;00:00 Images downloaded]\n",
              "    </div>\n",
              "    "
            ]
          },
          "metadata": {}
        },
        {
          "output_type": "stream",
          "name": "stdout",
          "text": [
            "Duckduckgo search: african elephant animal\n",
            "Downloading results into /content/drive/MyDrive/AnimalSubspeciesDataset/images/African_Elephant\n"
          ]
        },
        {
          "output_type": "display_data",
          "data": {
            "text/plain": [
              "<IPython.core.display.HTML object>"
            ],
            "text/html": [
              "\n",
              "<style>\n",
              "    /* Turns off some styling */\n",
              "    progress {\n",
              "        /* gets rid of default border in Firefox and Opera. */\n",
              "        border: none;\n",
              "        /* Needs to be in here for Safari polyfill so background images work as expected. */\n",
              "        background-size: auto;\n",
              "    }\n",
              "    progress:not([value]), progress:not([value])::-webkit-progress-bar {\n",
              "        background: repeating-linear-gradient(45deg, #7e7e7e, #7e7e7e 10px, #5c5c5c 10px, #5c5c5c 20px);\n",
              "    }\n",
              "    .progress-bar-interrupted, .progress-bar-interrupted::-webkit-progress-bar {\n",
              "        background: #F44336;\n",
              "    }\n",
              "</style>\n"
            ]
          },
          "metadata": {}
        },
        {
          "output_type": "display_data",
          "data": {
            "text/plain": [
              "<IPython.core.display.HTML object>"
            ],
            "text/html": [
              "\n",
              "    <div>\n",
              "      <progress value='413' class='' max='413' style='width:300px; height:20px; vertical-align: middle;'></progress>\n",
              "      100.00% [413/413 00:40&lt;00:00 Images downloaded]\n",
              "    </div>\n",
              "    "
            ]
          },
          "metadata": {}
        },
        {
          "output_type": "stream",
          "name": "stdout",
          "text": [
            "Duckduckgo search: emperor penguin bird\n",
            "Downloading results into /content/drive/MyDrive/AnimalSubspeciesDataset/images/Emperor_Penguin\n"
          ]
        },
        {
          "output_type": "display_data",
          "data": {
            "text/plain": [
              "<IPython.core.display.HTML object>"
            ],
            "text/html": [
              "\n",
              "<style>\n",
              "    /* Turns off some styling */\n",
              "    progress {\n",
              "        /* gets rid of default border in Firefox and Opera. */\n",
              "        border: none;\n",
              "        /* Needs to be in here for Safari polyfill so background images work as expected. */\n",
              "        background-size: auto;\n",
              "    }\n",
              "    progress:not([value]), progress:not([value])::-webkit-progress-bar {\n",
              "        background: repeating-linear-gradient(45deg, #7e7e7e, #7e7e7e 10px, #5c5c5c 10px, #5c5c5c 20px);\n",
              "    }\n",
              "    .progress-bar-interrupted, .progress-bar-interrupted::-webkit-progress-bar {\n",
              "        background: #F44336;\n",
              "    }\n",
              "</style>\n"
            ]
          },
          "metadata": {}
        },
        {
          "output_type": "display_data",
          "data": {
            "text/plain": [
              "<IPython.core.display.HTML object>"
            ],
            "text/html": [
              "\n",
              "    <div>\n",
              "      <progress value='410' class='' max='410' style='width:300px; height:20px; vertical-align: middle;'></progress>\n",
              "      100.00% [410/410 00:37&lt;00:00 Images downloaded]\n",
              "    </div>\n",
              "    "
            ]
          },
          "metadata": {}
        },
        {
          "output_type": "stream",
          "name": "stdout",
          "text": [
            "Duckduckgo search: red panda animal\n",
            "Downloading results into /content/drive/MyDrive/AnimalSubspeciesDataset/images/Red_Panda\n"
          ]
        },
        {
          "output_type": "display_data",
          "data": {
            "text/plain": [
              "<IPython.core.display.HTML object>"
            ],
            "text/html": [
              "\n",
              "<style>\n",
              "    /* Turns off some styling */\n",
              "    progress {\n",
              "        /* gets rid of default border in Firefox and Opera. */\n",
              "        border: none;\n",
              "        /* Needs to be in here for Safari polyfill so background images work as expected. */\n",
              "        background-size: auto;\n",
              "    }\n",
              "    progress:not([value]), progress:not([value])::-webkit-progress-bar {\n",
              "        background: repeating-linear-gradient(45deg, #7e7e7e, #7e7e7e 10px, #5c5c5c 10px, #5c5c5c 20px);\n",
              "    }\n",
              "    .progress-bar-interrupted, .progress-bar-interrupted::-webkit-progress-bar {\n",
              "        background: #F44336;\n",
              "    }\n",
              "</style>\n"
            ]
          },
          "metadata": {}
        },
        {
          "output_type": "display_data",
          "data": {
            "text/plain": [
              "<IPython.core.display.HTML object>"
            ],
            "text/html": [
              "\n",
              "    <div>\n",
              "      <progress value='452' class='' max='452' style='width:300px; height:20px; vertical-align: middle;'></progress>\n",
              "      100.00% [452/452 00:47&lt;00:00 Images downloaded]\n",
              "    </div>\n",
              "    "
            ]
          },
          "metadata": {}
        },
        {
          "output_type": "stream",
          "name": "stdout",
          "text": [
            "Duckduckgo search: blue jay bird\n",
            "Downloading results into /content/drive/MyDrive/AnimalSubspeciesDataset/images/Blue_Jay\n"
          ]
        },
        {
          "output_type": "display_data",
          "data": {
            "text/plain": [
              "<IPython.core.display.HTML object>"
            ],
            "text/html": [
              "\n",
              "<style>\n",
              "    /* Turns off some styling */\n",
              "    progress {\n",
              "        /* gets rid of default border in Firefox and Opera. */\n",
              "        border: none;\n",
              "        /* Needs to be in here for Safari polyfill so background images work as expected. */\n",
              "        background-size: auto;\n",
              "    }\n",
              "    progress:not([value]), progress:not([value])::-webkit-progress-bar {\n",
              "        background: repeating-linear-gradient(45deg, #7e7e7e, #7e7e7e 10px, #5c5c5c 10px, #5c5c5c 20px);\n",
              "    }\n",
              "    .progress-bar-interrupted, .progress-bar-interrupted::-webkit-progress-bar {\n",
              "        background: #F44336;\n",
              "    }\n",
              "</style>\n"
            ]
          },
          "metadata": {}
        },
        {
          "output_type": "display_data",
          "data": {
            "text/plain": [
              "<IPython.core.display.HTML object>"
            ],
            "text/html": [
              "\n",
              "    <div>\n",
              "      <progress value='497' class='' max='497' style='width:300px; height:20px; vertical-align: middle;'></progress>\n",
              "      100.00% [497/497 00:48&lt;00:00 Images downloaded]\n",
              "    </div>\n",
              "    "
            ]
          },
          "metadata": {}
        },
        {
          "output_type": "stream",
          "name": "stdout",
          "text": [
            "Duckduckgo search: grizzly bear animal\n",
            "Downloading results into /content/drive/MyDrive/AnimalSubspeciesDataset/images/Grizzly_Bear\n"
          ]
        },
        {
          "output_type": "display_data",
          "data": {
            "text/plain": [
              "<IPython.core.display.HTML object>"
            ],
            "text/html": [
              "\n",
              "<style>\n",
              "    /* Turns off some styling */\n",
              "    progress {\n",
              "        /* gets rid of default border in Firefox and Opera. */\n",
              "        border: none;\n",
              "        /* Needs to be in here for Safari polyfill so background images work as expected. */\n",
              "        background-size: auto;\n",
              "    }\n",
              "    progress:not([value]), progress:not([value])::-webkit-progress-bar {\n",
              "        background: repeating-linear-gradient(45deg, #7e7e7e, #7e7e7e 10px, #5c5c5c 10px, #5c5c5c 20px);\n",
              "    }\n",
              "    .progress-bar-interrupted, .progress-bar-interrupted::-webkit-progress-bar {\n",
              "        background: #F44336;\n",
              "    }\n",
              "</style>\n"
            ]
          },
          "metadata": {}
        },
        {
          "output_type": "display_data",
          "data": {
            "text/plain": [
              "<IPython.core.display.HTML object>"
            ],
            "text/html": [
              "\n",
              "    <div>\n",
              "      <progress value='446' class='' max='446' style='width:300px; height:20px; vertical-align: middle;'></progress>\n",
              "      100.00% [446/446 00:44&lt;00:00 Images downloaded]\n",
              "    </div>\n",
              "    "
            ]
          },
          "metadata": {}
        },
        {
          "output_type": "execute_result",
          "data": {
            "text/plain": [
              "[PosixPath('/content/drive/MyDrive/AnimalSubspeciesDataset/images/Grizzly_Bear/001_42d83d78.jpg'),\n",
              " PosixPath('/content/drive/MyDrive/AnimalSubspeciesDataset/images/Grizzly_Bear/002_b28d8fc9.jpg'),\n",
              " PosixPath('/content/drive/MyDrive/AnimalSubspeciesDataset/images/Grizzly_Bear/003_660442b6.jpg'),\n",
              " PosixPath('/content/drive/MyDrive/AnimalSubspeciesDataset/images/Grizzly_Bear/004_c9753496.jpg'),\n",
              " PosixPath('/content/drive/MyDrive/AnimalSubspeciesDataset/images/Grizzly_Bear/005_d1b4bf9d.jpg'),\n",
              " PosixPath('/content/drive/MyDrive/AnimalSubspeciesDataset/images/Grizzly_Bear/006_c72de8bd.jpg'),\n",
              " PosixPath('/content/drive/MyDrive/AnimalSubspeciesDataset/images/Grizzly_Bear/007_0050b866.jpg'),\n",
              " PosixPath('/content/drive/MyDrive/AnimalSubspeciesDataset/images/Grizzly_Bear/008_e1bb6536.jpg'),\n",
              " PosixPath('/content/drive/MyDrive/AnimalSubspeciesDataset/images/Grizzly_Bear/009_915b3601.jpg'),\n",
              " PosixPath('/content/drive/MyDrive/AnimalSubspeciesDataset/images/Grizzly_Bear/010_e946ee31.jpg'),\n",
              " PosixPath('/content/drive/MyDrive/AnimalSubspeciesDataset/images/Grizzly_Bear/011_a63ea966.jpg'),\n",
              " PosixPath('/content/drive/MyDrive/AnimalSubspeciesDataset/images/Grizzly_Bear/012_8808a11b.jpg'),\n",
              " PosixPath('/content/drive/MyDrive/AnimalSubspeciesDataset/images/Grizzly_Bear/013_1fb15054.jpg'),\n",
              " PosixPath('/content/drive/MyDrive/AnimalSubspeciesDataset/images/Grizzly_Bear/014_9c92612c.jpg'),\n",
              " PosixPath('/content/drive/MyDrive/AnimalSubspeciesDataset/images/Grizzly_Bear/015_5bae7bd0.jpg'),\n",
              " PosixPath('/content/drive/MyDrive/AnimalSubspeciesDataset/images/Grizzly_Bear/016_6051a1f1.jpg'),\n",
              " PosixPath('/content/drive/MyDrive/AnimalSubspeciesDataset/images/Grizzly_Bear/017_249b3a0b.jpg'),\n",
              " PosixPath('/content/drive/MyDrive/AnimalSubspeciesDataset/images/Grizzly_Bear/018_5366957a.jpg'),\n",
              " PosixPath('/content/drive/MyDrive/AnimalSubspeciesDataset/images/Grizzly_Bear/019_c8a162d3.jpg'),\n",
              " PosixPath('/content/drive/MyDrive/AnimalSubspeciesDataset/images/Grizzly_Bear/020_629fe108.jpg'),\n",
              " PosixPath('/content/drive/MyDrive/AnimalSubspeciesDataset/images/Grizzly_Bear/021_1d62cb9f.jpg'),\n",
              " PosixPath('/content/drive/MyDrive/AnimalSubspeciesDataset/images/Grizzly_Bear/022_69780817.jpg'),\n",
              " PosixPath('/content/drive/MyDrive/AnimalSubspeciesDataset/images/Grizzly_Bear/023_5cd16ac0.jpg'),\n",
              " PosixPath('/content/drive/MyDrive/AnimalSubspeciesDataset/images/Grizzly_Bear/024_8510c804.jpg'),\n",
              " PosixPath('/content/drive/MyDrive/AnimalSubspeciesDataset/images/Grizzly_Bear/025_93b63f28.jpg'),\n",
              " PosixPath('/content/drive/MyDrive/AnimalSubspeciesDataset/images/Grizzly_Bear/026_df37cb90.jpg'),\n",
              " PosixPath('/content/drive/MyDrive/AnimalSubspeciesDataset/images/Grizzly_Bear/027_5a864d1b.jpg'),\n",
              " PosixPath('/content/drive/MyDrive/AnimalSubspeciesDataset/images/Grizzly_Bear/028_323b52a7.jpg'),\n",
              " PosixPath('/content/drive/MyDrive/AnimalSubspeciesDataset/images/Grizzly_Bear/029_05d7a9b5.jpg'),\n",
              " PosixPath('/content/drive/MyDrive/AnimalSubspeciesDataset/images/Grizzly_Bear/030_4af21f43.jpg'),\n",
              " PosixPath('/content/drive/MyDrive/AnimalSubspeciesDataset/images/Grizzly_Bear/031_3b032e99.jpg'),\n",
              " PosixPath('/content/drive/MyDrive/AnimalSubspeciesDataset/images/Grizzly_Bear/032_4dc154cd.jpg'),\n",
              " PosixPath('/content/drive/MyDrive/AnimalSubspeciesDataset/images/Grizzly_Bear/033_160f7cdc.jpg'),\n",
              " PosixPath('/content/drive/MyDrive/AnimalSubspeciesDataset/images/Grizzly_Bear/034_3df7b547.jpg'),\n",
              " PosixPath('/content/drive/MyDrive/AnimalSubspeciesDataset/images/Grizzly_Bear/035_111ec68b.jpg'),\n",
              " PosixPath('/content/drive/MyDrive/AnimalSubspeciesDataset/images/Grizzly_Bear/036_bded687e.jpg'),\n",
              " PosixPath('/content/drive/MyDrive/AnimalSubspeciesDataset/images/Grizzly_Bear/037_6bc2a7c7.jpg'),\n",
              " PosixPath('/content/drive/MyDrive/AnimalSubspeciesDataset/images/Grizzly_Bear/038_120d8f01.jpg'),\n",
              " PosixPath('/content/drive/MyDrive/AnimalSubspeciesDataset/images/Grizzly_Bear/039_d8bec6df.jpg'),\n",
              " PosixPath('/content/drive/MyDrive/AnimalSubspeciesDataset/images/Grizzly_Bear/040_88586984.jpg'),\n",
              " PosixPath('/content/drive/MyDrive/AnimalSubspeciesDataset/images/Grizzly_Bear/041_897d50c0.jpg'),\n",
              " PosixPath('/content/drive/MyDrive/AnimalSubspeciesDataset/images/Grizzly_Bear/042_ed6522f7.jpg'),\n",
              " PosixPath('/content/drive/MyDrive/AnimalSubspeciesDataset/images/Grizzly_Bear/043_79a89c66.jpg'),\n",
              " PosixPath('/content/drive/MyDrive/AnimalSubspeciesDataset/images/Grizzly_Bear/044_50b42e9b.jpg'),\n",
              " PosixPath('/content/drive/MyDrive/AnimalSubspeciesDataset/images/Grizzly_Bear/045_d6fc0578.jpg'),\n",
              " PosixPath('/content/drive/MyDrive/AnimalSubspeciesDataset/images/Grizzly_Bear/046_fe030de4.jpg'),\n",
              " PosixPath('/content/drive/MyDrive/AnimalSubspeciesDataset/images/Grizzly_Bear/047_27b96a61.jpg'),\n",
              " PosixPath('/content/drive/MyDrive/AnimalSubspeciesDataset/images/Grizzly_Bear/048_1931606d.jpg'),\n",
              " PosixPath('/content/drive/MyDrive/AnimalSubspeciesDataset/images/Grizzly_Bear/049_59148646.jpg'),\n",
              " PosixPath('/content/drive/MyDrive/AnimalSubspeciesDataset/images/Grizzly_Bear/050_5ed625e5.jpg'),\n",
              " PosixPath('/content/drive/MyDrive/AnimalSubspeciesDataset/images/Grizzly_Bear/051_de07421d.jpg'),\n",
              " PosixPath('/content/drive/MyDrive/AnimalSubspeciesDataset/images/Grizzly_Bear/052_a7c75ec6.jpg'),\n",
              " PosixPath('/content/drive/MyDrive/AnimalSubspeciesDataset/images/Grizzly_Bear/053_e4a39580.jpg'),\n",
              " PosixPath('/content/drive/MyDrive/AnimalSubspeciesDataset/images/Grizzly_Bear/054_f34107cd.jpg'),\n",
              " PosixPath('/content/drive/MyDrive/AnimalSubspeciesDataset/images/Grizzly_Bear/055_0da956ce.jpg'),\n",
              " PosixPath('/content/drive/MyDrive/AnimalSubspeciesDataset/images/Grizzly_Bear/056_1990c40c.jpg'),\n",
              " PosixPath('/content/drive/MyDrive/AnimalSubspeciesDataset/images/Grizzly_Bear/057_f3765086.jpg'),\n",
              " PosixPath('/content/drive/MyDrive/AnimalSubspeciesDataset/images/Grizzly_Bear/058_69b29c83.jpg'),\n",
              " PosixPath('/content/drive/MyDrive/AnimalSubspeciesDataset/images/Grizzly_Bear/059_48e819c6.jpg'),\n",
              " PosixPath('/content/drive/MyDrive/AnimalSubspeciesDataset/images/Grizzly_Bear/060_247eb2e9.jpg'),\n",
              " PosixPath('/content/drive/MyDrive/AnimalSubspeciesDataset/images/Grizzly_Bear/061_f7b476ff.jpg'),\n",
              " PosixPath('/content/drive/MyDrive/AnimalSubspeciesDataset/images/Grizzly_Bear/062_27d99efa.jpg'),\n",
              " PosixPath('/content/drive/MyDrive/AnimalSubspeciesDataset/images/Grizzly_Bear/063_4145b004.jpg'),\n",
              " PosixPath('/content/drive/MyDrive/AnimalSubspeciesDataset/images/Grizzly_Bear/064_7350cec0.jpg'),\n",
              " PosixPath('/content/drive/MyDrive/AnimalSubspeciesDataset/images/Grizzly_Bear/065_1611c10a.jpg'),\n",
              " PosixPath('/content/drive/MyDrive/AnimalSubspeciesDataset/images/Grizzly_Bear/066_ae226dcc.jpg'),\n",
              " PosixPath('/content/drive/MyDrive/AnimalSubspeciesDataset/images/Grizzly_Bear/067_4f1f1738.jpg'),\n",
              " PosixPath('/content/drive/MyDrive/AnimalSubspeciesDataset/images/Grizzly_Bear/068_994b2cfd.jpg'),\n",
              " PosixPath('/content/drive/MyDrive/AnimalSubspeciesDataset/images/Grizzly_Bear/069_ff17312d.jpg'),\n",
              " PosixPath('/content/drive/MyDrive/AnimalSubspeciesDataset/images/Grizzly_Bear/070_6d0bf099.jpg'),\n",
              " PosixPath('/content/drive/MyDrive/AnimalSubspeciesDataset/images/Grizzly_Bear/071_07c7e165.jpg'),\n",
              " PosixPath('/content/drive/MyDrive/AnimalSubspeciesDataset/images/Grizzly_Bear/072_d104f7fa.jpg'),\n",
              " PosixPath('/content/drive/MyDrive/AnimalSubspeciesDataset/images/Grizzly_Bear/073_dba9db55.jpg'),\n",
              " PosixPath('/content/drive/MyDrive/AnimalSubspeciesDataset/images/Grizzly_Bear/074_09c23bee.jpg'),\n",
              " PosixPath('/content/drive/MyDrive/AnimalSubspeciesDataset/images/Grizzly_Bear/075_c037a96d.jpg'),\n",
              " PosixPath('/content/drive/MyDrive/AnimalSubspeciesDataset/images/Grizzly_Bear/076_505405fb.jpg'),\n",
              " PosixPath('/content/drive/MyDrive/AnimalSubspeciesDataset/images/Grizzly_Bear/077_415158c9.jpg'),\n",
              " PosixPath('/content/drive/MyDrive/AnimalSubspeciesDataset/images/Grizzly_Bear/078_694ed580.jpg'),\n",
              " PosixPath('/content/drive/MyDrive/AnimalSubspeciesDataset/images/Grizzly_Bear/079_6a0e5631.jpg'),\n",
              " PosixPath('/content/drive/MyDrive/AnimalSubspeciesDataset/images/Grizzly_Bear/080_036270c6.jpg'),\n",
              " PosixPath('/content/drive/MyDrive/AnimalSubspeciesDataset/images/Grizzly_Bear/081_c2e9a100.jpg'),\n",
              " PosixPath('/content/drive/MyDrive/AnimalSubspeciesDataset/images/Grizzly_Bear/082_8a59fa04.jpg'),\n",
              " PosixPath('/content/drive/MyDrive/AnimalSubspeciesDataset/images/Grizzly_Bear/083_1afd7f91.jpg'),\n",
              " PosixPath('/content/drive/MyDrive/AnimalSubspeciesDataset/images/Grizzly_Bear/084_3bf30e17.jpg'),\n",
              " PosixPath('/content/drive/MyDrive/AnimalSubspeciesDataset/images/Grizzly_Bear/085_24ddfb11.jpg'),\n",
              " PosixPath('/content/drive/MyDrive/AnimalSubspeciesDataset/images/Grizzly_Bear/086_2b454b02.jpg'),\n",
              " PosixPath('/content/drive/MyDrive/AnimalSubspeciesDataset/images/Grizzly_Bear/087_c2838b37.jpg'),\n",
              " PosixPath('/content/drive/MyDrive/AnimalSubspeciesDataset/images/Grizzly_Bear/088_724c6e05.jpg'),\n",
              " PosixPath('/content/drive/MyDrive/AnimalSubspeciesDataset/images/Grizzly_Bear/089_889f87fd.jpg'),\n",
              " PosixPath('/content/drive/MyDrive/AnimalSubspeciesDataset/images/Grizzly_Bear/090_8e80ba8e.jpg'),\n",
              " PosixPath('/content/drive/MyDrive/AnimalSubspeciesDataset/images/Grizzly_Bear/091_2d318382.jpg'),\n",
              " PosixPath('/content/drive/MyDrive/AnimalSubspeciesDataset/images/Grizzly_Bear/092_984b7dcb.jpg'),\n",
              " PosixPath('/content/drive/MyDrive/AnimalSubspeciesDataset/images/Grizzly_Bear/093_3dbca83b.jpg'),\n",
              " PosixPath('/content/drive/MyDrive/AnimalSubspeciesDataset/images/Grizzly_Bear/094_b1a922e2.jpg'),\n",
              " PosixPath('/content/drive/MyDrive/AnimalSubspeciesDataset/images/Grizzly_Bear/095_7dcf666d.jpg'),\n",
              " PosixPath('/content/drive/MyDrive/AnimalSubspeciesDataset/images/Grizzly_Bear/096_bbac5be4.jpg'),\n",
              " PosixPath('/content/drive/MyDrive/AnimalSubspeciesDataset/images/Grizzly_Bear/097_1c86996f.jpg'),\n",
              " PosixPath('/content/drive/MyDrive/AnimalSubspeciesDataset/images/Grizzly_Bear/098_d2c1dbd3.jpg'),\n",
              " PosixPath('/content/drive/MyDrive/AnimalSubspeciesDataset/images/Grizzly_Bear/099_85d5aec7.jpg'),\n",
              " PosixPath('/content/drive/MyDrive/AnimalSubspeciesDataset/images/Grizzly_Bear/100_f320c832.jpg'),\n",
              " PosixPath('/content/drive/MyDrive/AnimalSubspeciesDataset/images/Grizzly_Bear/101_c8338e60.jpg'),\n",
              " PosixPath('/content/drive/MyDrive/AnimalSubspeciesDataset/images/Grizzly_Bear/102_84e5e0df.jpg'),\n",
              " PosixPath('/content/drive/MyDrive/AnimalSubspeciesDataset/images/Grizzly_Bear/103_bae09426.jpg'),\n",
              " PosixPath('/content/drive/MyDrive/AnimalSubspeciesDataset/images/Grizzly_Bear/104_6f8f4d87.jpg'),\n",
              " PosixPath('/content/drive/MyDrive/AnimalSubspeciesDataset/images/Grizzly_Bear/105_cb2bb83c.jpg'),\n",
              " PosixPath('/content/drive/MyDrive/AnimalSubspeciesDataset/images/Grizzly_Bear/106_09b2f796.jpg'),\n",
              " PosixPath('/content/drive/MyDrive/AnimalSubspeciesDataset/images/Grizzly_Bear/107_b4ca79ad.jpg'),\n",
              " PosixPath('/content/drive/MyDrive/AnimalSubspeciesDataset/images/Grizzly_Bear/108_57d1f6f4.jpg'),\n",
              " PosixPath('/content/drive/MyDrive/AnimalSubspeciesDataset/images/Grizzly_Bear/109_c2f51ded.jpg'),\n",
              " PosixPath('/content/drive/MyDrive/AnimalSubspeciesDataset/images/Grizzly_Bear/110_fde048a8.jpg'),\n",
              " PosixPath('/content/drive/MyDrive/AnimalSubspeciesDataset/images/Grizzly_Bear/111_d75c48e9.jpg'),\n",
              " PosixPath('/content/drive/MyDrive/AnimalSubspeciesDataset/images/Grizzly_Bear/112_a7749e9e.jpg'),\n",
              " PosixPath('/content/drive/MyDrive/AnimalSubspeciesDataset/images/Grizzly_Bear/113_8727ceae.jpg'),\n",
              " PosixPath('/content/drive/MyDrive/AnimalSubspeciesDataset/images/Grizzly_Bear/114_e5c54f7d.jpg'),\n",
              " PosixPath('/content/drive/MyDrive/AnimalSubspeciesDataset/images/Grizzly_Bear/115_d8357955.jpg'),\n",
              " PosixPath('/content/drive/MyDrive/AnimalSubspeciesDataset/images/Grizzly_Bear/116_83198d36.jpg'),\n",
              " PosixPath('/content/drive/MyDrive/AnimalSubspeciesDataset/images/Grizzly_Bear/117_3c338039.jpg'),\n",
              " PosixPath('/content/drive/MyDrive/AnimalSubspeciesDataset/images/Grizzly_Bear/118_ef38fb2b.jpg'),\n",
              " PosixPath('/content/drive/MyDrive/AnimalSubspeciesDataset/images/Grizzly_Bear/119_af8bb183.jpg'),\n",
              " PosixPath('/content/drive/MyDrive/AnimalSubspeciesDataset/images/Grizzly_Bear/120_b239a3a9.jpg'),\n",
              " PosixPath('/content/drive/MyDrive/AnimalSubspeciesDataset/images/Grizzly_Bear/121_dbe965c8.jpg'),\n",
              " PosixPath('/content/drive/MyDrive/AnimalSubspeciesDataset/images/Grizzly_Bear/122_df9b323c.jpg'),\n",
              " PosixPath('/content/drive/MyDrive/AnimalSubspeciesDataset/images/Grizzly_Bear/123_250920a7.jpg'),\n",
              " PosixPath('/content/drive/MyDrive/AnimalSubspeciesDataset/images/Grizzly_Bear/124_a86c5044.jpg'),\n",
              " PosixPath('/content/drive/MyDrive/AnimalSubspeciesDataset/images/Grizzly_Bear/125_53acba7d.jpg'),\n",
              " PosixPath('/content/drive/MyDrive/AnimalSubspeciesDataset/images/Grizzly_Bear/126_a463042d.jpg'),\n",
              " PosixPath('/content/drive/MyDrive/AnimalSubspeciesDataset/images/Grizzly_Bear/127_664859a8.jpg'),\n",
              " PosixPath('/content/drive/MyDrive/AnimalSubspeciesDataset/images/Grizzly_Bear/128_9be9e0f5.jpg'),\n",
              " PosixPath('/content/drive/MyDrive/AnimalSubspeciesDataset/images/Grizzly_Bear/129_db87c76d.jpg'),\n",
              " PosixPath('/content/drive/MyDrive/AnimalSubspeciesDataset/images/Grizzly_Bear/130_828b94d6.jpg'),\n",
              " PosixPath('/content/drive/MyDrive/AnimalSubspeciesDataset/images/Grizzly_Bear/131_e773202e.jpg'),\n",
              " PosixPath('/content/drive/MyDrive/AnimalSubspeciesDataset/images/Grizzly_Bear/132_f2d29db6.jpg'),\n",
              " PosixPath('/content/drive/MyDrive/AnimalSubspeciesDataset/images/Grizzly_Bear/133_e70b6ede.jpg'),\n",
              " PosixPath('/content/drive/MyDrive/AnimalSubspeciesDataset/images/Grizzly_Bear/134_c60abd4b.jpg'),\n",
              " PosixPath('/content/drive/MyDrive/AnimalSubspeciesDataset/images/Grizzly_Bear/135_7ac444fa.jpg'),\n",
              " PosixPath('/content/drive/MyDrive/AnimalSubspeciesDataset/images/Grizzly_Bear/136_ff32cd46.jpg'),\n",
              " PosixPath('/content/drive/MyDrive/AnimalSubspeciesDataset/images/Grizzly_Bear/137_b7cf1b6b.jpg'),\n",
              " PosixPath('/content/drive/MyDrive/AnimalSubspeciesDataset/images/Grizzly_Bear/138_9a572ef4.jpg'),\n",
              " PosixPath('/content/drive/MyDrive/AnimalSubspeciesDataset/images/Grizzly_Bear/139_57a0bab1.jpg'),\n",
              " PosixPath('/content/drive/MyDrive/AnimalSubspeciesDataset/images/Grizzly_Bear/140_c8a44715.jpg'),\n",
              " PosixPath('/content/drive/MyDrive/AnimalSubspeciesDataset/images/Grizzly_Bear/141_71d9a80d.jpg'),\n",
              " PosixPath('/content/drive/MyDrive/AnimalSubspeciesDataset/images/Grizzly_Bear/142_cdc035af.jpg'),\n",
              " PosixPath('/content/drive/MyDrive/AnimalSubspeciesDataset/images/Grizzly_Bear/143_4d6831e8.jpg'),\n",
              " PosixPath('/content/drive/MyDrive/AnimalSubspeciesDataset/images/Grizzly_Bear/144_03f956d4.jpg'),\n",
              " PosixPath('/content/drive/MyDrive/AnimalSubspeciesDataset/images/Grizzly_Bear/145_bb57188b.jpg'),\n",
              " PosixPath('/content/drive/MyDrive/AnimalSubspeciesDataset/images/Grizzly_Bear/146_664c1079.jpg'),\n",
              " PosixPath('/content/drive/MyDrive/AnimalSubspeciesDataset/images/Grizzly_Bear/147_1f8414c4.jpg'),\n",
              " PosixPath('/content/drive/MyDrive/AnimalSubspeciesDataset/images/Grizzly_Bear/148_25fa35e9.jpg'),\n",
              " PosixPath('/content/drive/MyDrive/AnimalSubspeciesDataset/images/Grizzly_Bear/149_ea7bf067.jpg'),\n",
              " PosixPath('/content/drive/MyDrive/AnimalSubspeciesDataset/images/Grizzly_Bear/150_ae431ea3.jpg'),\n",
              " PosixPath('/content/drive/MyDrive/AnimalSubspeciesDataset/images/Grizzly_Bear/151_ab04c876.jpg'),\n",
              " PosixPath('/content/drive/MyDrive/AnimalSubspeciesDataset/images/Grizzly_Bear/152_ce8a2cd2.jpg'),\n",
              " PosixPath('/content/drive/MyDrive/AnimalSubspeciesDataset/images/Grizzly_Bear/153_3d8db3fe.jpg'),\n",
              " PosixPath('/content/drive/MyDrive/AnimalSubspeciesDataset/images/Grizzly_Bear/154_76c63074.jpg'),\n",
              " PosixPath('/content/drive/MyDrive/AnimalSubspeciesDataset/images/Grizzly_Bear/155_f38805f1.jpg'),\n",
              " PosixPath('/content/drive/MyDrive/AnimalSubspeciesDataset/images/Grizzly_Bear/156_98819db0.jpg'),\n",
              " PosixPath('/content/drive/MyDrive/AnimalSubspeciesDataset/images/Grizzly_Bear/157_c48d32ba.jpg'),\n",
              " PosixPath('/content/drive/MyDrive/AnimalSubspeciesDataset/images/Grizzly_Bear/158_434b9b71.jpg'),\n",
              " PosixPath('/content/drive/MyDrive/AnimalSubspeciesDataset/images/Grizzly_Bear/159_ae643c72.jpg'),\n",
              " PosixPath('/content/drive/MyDrive/AnimalSubspeciesDataset/images/Grizzly_Bear/160_7346c6d1.jpg'),\n",
              " PosixPath('/content/drive/MyDrive/AnimalSubspeciesDataset/images/Grizzly_Bear/161_7c918a0b.jpg'),\n",
              " PosixPath('/content/drive/MyDrive/AnimalSubspeciesDataset/images/Grizzly_Bear/162_35982ec5.jpg'),\n",
              " PosixPath('/content/drive/MyDrive/AnimalSubspeciesDataset/images/Grizzly_Bear/163_f5e2e516.jpg'),\n",
              " PosixPath('/content/drive/MyDrive/AnimalSubspeciesDataset/images/Grizzly_Bear/164_dac83a48.jpg'),\n",
              " PosixPath('/content/drive/MyDrive/AnimalSubspeciesDataset/images/Grizzly_Bear/165_33519c10.jpg'),\n",
              " PosixPath('/content/drive/MyDrive/AnimalSubspeciesDataset/images/Grizzly_Bear/166_3f374b70.jpg'),\n",
              " PosixPath('/content/drive/MyDrive/AnimalSubspeciesDataset/images/Grizzly_Bear/167_690b65aa.jpg'),\n",
              " PosixPath('/content/drive/MyDrive/AnimalSubspeciesDataset/images/Grizzly_Bear/168_0ea2ddf4.jpg'),\n",
              " PosixPath('/content/drive/MyDrive/AnimalSubspeciesDataset/images/Grizzly_Bear/169_517f87a7.jpg'),\n",
              " PosixPath('/content/drive/MyDrive/AnimalSubspeciesDataset/images/Grizzly_Bear/170_d68a6e09.jpg'),\n",
              " PosixPath('/content/drive/MyDrive/AnimalSubspeciesDataset/images/Grizzly_Bear/171_5afc35c9.jpg'),\n",
              " PosixPath('/content/drive/MyDrive/AnimalSubspeciesDataset/images/Grizzly_Bear/172_f5fce140.jpg'),\n",
              " PosixPath('/content/drive/MyDrive/AnimalSubspeciesDataset/images/Grizzly_Bear/173_93fb5025.jpg'),\n",
              " PosixPath('/content/drive/MyDrive/AnimalSubspeciesDataset/images/Grizzly_Bear/174_8aa2208e.jpg'),\n",
              " PosixPath('/content/drive/MyDrive/AnimalSubspeciesDataset/images/Grizzly_Bear/175_f375f26d.jpg'),\n",
              " PosixPath('/content/drive/MyDrive/AnimalSubspeciesDataset/images/Grizzly_Bear/176_516b14b6.jpg'),\n",
              " PosixPath('/content/drive/MyDrive/AnimalSubspeciesDataset/images/Grizzly_Bear/177_9ebdc31b.jpg'),\n",
              " PosixPath('/content/drive/MyDrive/AnimalSubspeciesDataset/images/Grizzly_Bear/178_8ca5ad62.jpg'),\n",
              " PosixPath('/content/drive/MyDrive/AnimalSubspeciesDataset/images/Grizzly_Bear/179_5342856c.jpg'),\n",
              " PosixPath('/content/drive/MyDrive/AnimalSubspeciesDataset/images/Grizzly_Bear/180_d75db229.jpg'),\n",
              " PosixPath('/content/drive/MyDrive/AnimalSubspeciesDataset/images/Grizzly_Bear/181_52f4384e.jpg'),\n",
              " PosixPath('/content/drive/MyDrive/AnimalSubspeciesDataset/images/Grizzly_Bear/182_5f753d63.jpg'),\n",
              " PosixPath('/content/drive/MyDrive/AnimalSubspeciesDataset/images/Grizzly_Bear/183_3c7e24d1.jpg'),\n",
              " PosixPath('/content/drive/MyDrive/AnimalSubspeciesDataset/images/Grizzly_Bear/184_75694982.jpg'),\n",
              " PosixPath('/content/drive/MyDrive/AnimalSubspeciesDataset/images/Grizzly_Bear/185_37651ed2.jpg'),\n",
              " PosixPath('/content/drive/MyDrive/AnimalSubspeciesDataset/images/Grizzly_Bear/186_abb51287.jpg'),\n",
              " PosixPath('/content/drive/MyDrive/AnimalSubspeciesDataset/images/Grizzly_Bear/187_4997cbdb.jpg'),\n",
              " PosixPath('/content/drive/MyDrive/AnimalSubspeciesDataset/images/Grizzly_Bear/188_853893d3.jpg'),\n",
              " PosixPath('/content/drive/MyDrive/AnimalSubspeciesDataset/images/Grizzly_Bear/189_385deb1c.jpg'),\n",
              " PosixPath('/content/drive/MyDrive/AnimalSubspeciesDataset/images/Grizzly_Bear/190_b5eda398.jpg'),\n",
              " PosixPath('/content/drive/MyDrive/AnimalSubspeciesDataset/images/Grizzly_Bear/191_dace3bba.jpg'),\n",
              " PosixPath('/content/drive/MyDrive/AnimalSubspeciesDataset/images/Grizzly_Bear/192_03f6d87c.jpg'),\n",
              " PosixPath('/content/drive/MyDrive/AnimalSubspeciesDataset/images/Grizzly_Bear/193_6131c086.jpg'),\n",
              " PosixPath('/content/drive/MyDrive/AnimalSubspeciesDataset/images/Grizzly_Bear/194_2054b497.jpg'),\n",
              " PosixPath('/content/drive/MyDrive/AnimalSubspeciesDataset/images/Grizzly_Bear/195_35cb3556.jpg'),\n",
              " PosixPath('/content/drive/MyDrive/AnimalSubspeciesDataset/images/Grizzly_Bear/196_4a03393b.jpg'),\n",
              " PosixPath('/content/drive/MyDrive/AnimalSubspeciesDataset/images/Grizzly_Bear/197_63c33d1d.jpg'),\n",
              " PosixPath('/content/drive/MyDrive/AnimalSubspeciesDataset/images/Grizzly_Bear/198_550636b1.jpg'),\n",
              " PosixPath('/content/drive/MyDrive/AnimalSubspeciesDataset/images/Grizzly_Bear/199_62bff7ce.jpg'),\n",
              " PosixPath('/content/drive/MyDrive/AnimalSubspeciesDataset/images/Grizzly_Bear/200_049a9009.jpg'),\n",
              " PosixPath('/content/drive/MyDrive/AnimalSubspeciesDataset/images/Grizzly_Bear/201_4782987b.jpg'),\n",
              " PosixPath('/content/drive/MyDrive/AnimalSubspeciesDataset/images/Grizzly_Bear/202_f546a323.jpg'),\n",
              " PosixPath('/content/drive/MyDrive/AnimalSubspeciesDataset/images/Grizzly_Bear/203_6a21dd67.jpg'),\n",
              " PosixPath('/content/drive/MyDrive/AnimalSubspeciesDataset/images/Grizzly_Bear/204_902d5187.jpg'),\n",
              " PosixPath('/content/drive/MyDrive/AnimalSubspeciesDataset/images/Grizzly_Bear/205_3fa0c711.jpg'),\n",
              " PosixPath('/content/drive/MyDrive/AnimalSubspeciesDataset/images/Grizzly_Bear/206_8a799d34.jpg'),\n",
              " PosixPath('/content/drive/MyDrive/AnimalSubspeciesDataset/images/Grizzly_Bear/207_f904afe5.jpg'),\n",
              " PosixPath('/content/drive/MyDrive/AnimalSubspeciesDataset/images/Grizzly_Bear/208_dd45d461.jpg'),\n",
              " PosixPath('/content/drive/MyDrive/AnimalSubspeciesDataset/images/Grizzly_Bear/209_7839f2f3.jpg'),\n",
              " PosixPath('/content/drive/MyDrive/AnimalSubspeciesDataset/images/Grizzly_Bear/210_21f7389d.jpg'),\n",
              " PosixPath('/content/drive/MyDrive/AnimalSubspeciesDataset/images/Grizzly_Bear/211_4771632c.jpg'),\n",
              " PosixPath('/content/drive/MyDrive/AnimalSubspeciesDataset/images/Grizzly_Bear/212_481ce219.jpg'),\n",
              " PosixPath('/content/drive/MyDrive/AnimalSubspeciesDataset/images/Grizzly_Bear/213_815140de.jpg'),\n",
              " PosixPath('/content/drive/MyDrive/AnimalSubspeciesDataset/images/Grizzly_Bear/214_6dcc274d.jpg'),\n",
              " PosixPath('/content/drive/MyDrive/AnimalSubspeciesDataset/images/Grizzly_Bear/215_bdb991f2.jpg'),\n",
              " PosixPath('/content/drive/MyDrive/AnimalSubspeciesDataset/images/Grizzly_Bear/216_e9f4dc78.jpg'),\n",
              " PosixPath('/content/drive/MyDrive/AnimalSubspeciesDataset/images/Grizzly_Bear/217_233fcd4c.jpg'),\n",
              " PosixPath('/content/drive/MyDrive/AnimalSubspeciesDataset/images/Grizzly_Bear/218_1d412413.jpg'),\n",
              " PosixPath('/content/drive/MyDrive/AnimalSubspeciesDataset/images/Grizzly_Bear/219_bfb8094e.jpg'),\n",
              " PosixPath('/content/drive/MyDrive/AnimalSubspeciesDataset/images/Grizzly_Bear/220_6e44354e.jpg'),\n",
              " PosixPath('/content/drive/MyDrive/AnimalSubspeciesDataset/images/Grizzly_Bear/221_60498910.jpg'),\n",
              " PosixPath('/content/drive/MyDrive/AnimalSubspeciesDataset/images/Grizzly_Bear/222_e1355b27.jpg'),\n",
              " PosixPath('/content/drive/MyDrive/AnimalSubspeciesDataset/images/Grizzly_Bear/223_ef0101e9.jpg'),\n",
              " PosixPath('/content/drive/MyDrive/AnimalSubspeciesDataset/images/Grizzly_Bear/224_91db17e2.jpg'),\n",
              " PosixPath('/content/drive/MyDrive/AnimalSubspeciesDataset/images/Grizzly_Bear/225_65a23da5.jpg'),\n",
              " PosixPath('/content/drive/MyDrive/AnimalSubspeciesDataset/images/Grizzly_Bear/226_430b2353.jpg'),\n",
              " PosixPath('/content/drive/MyDrive/AnimalSubspeciesDataset/images/Grizzly_Bear/227_8a478681.jpg'),\n",
              " PosixPath('/content/drive/MyDrive/AnimalSubspeciesDataset/images/Grizzly_Bear/228_302008c4.jpg'),\n",
              " PosixPath('/content/drive/MyDrive/AnimalSubspeciesDataset/images/Grizzly_Bear/229_66f61ad4.jpg'),\n",
              " PosixPath('/content/drive/MyDrive/AnimalSubspeciesDataset/images/Grizzly_Bear/230_29f6b3af.jpg'),\n",
              " PosixPath('/content/drive/MyDrive/AnimalSubspeciesDataset/images/Grizzly_Bear/231_5d2a0fcc.jpg'),\n",
              " PosixPath('/content/drive/MyDrive/AnimalSubspeciesDataset/images/Grizzly_Bear/232_b847688f.jpg'),\n",
              " PosixPath('/content/drive/MyDrive/AnimalSubspeciesDataset/images/Grizzly_Bear/233_b250795b.jpg'),\n",
              " PosixPath('/content/drive/MyDrive/AnimalSubspeciesDataset/images/Grizzly_Bear/234_2a242539.jpg'),\n",
              " PosixPath('/content/drive/MyDrive/AnimalSubspeciesDataset/images/Grizzly_Bear/235_195adc55.jpg'),\n",
              " PosixPath('/content/drive/MyDrive/AnimalSubspeciesDataset/images/Grizzly_Bear/236_4ef4de38.jpg'),\n",
              " PosixPath('/content/drive/MyDrive/AnimalSubspeciesDataset/images/Grizzly_Bear/237_3863fb4d.jpg'),\n",
              " PosixPath('/content/drive/MyDrive/AnimalSubspeciesDataset/images/Grizzly_Bear/238_54c8bcf1.jpg'),\n",
              " PosixPath('/content/drive/MyDrive/AnimalSubspeciesDataset/images/Grizzly_Bear/239_cc9b5c24.jpg'),\n",
              " PosixPath('/content/drive/MyDrive/AnimalSubspeciesDataset/images/Grizzly_Bear/240_1d3685d6.jpg'),\n",
              " PosixPath('/content/drive/MyDrive/AnimalSubspeciesDataset/images/Grizzly_Bear/241_d8265ce5.jpg'),\n",
              " PosixPath('/content/drive/MyDrive/AnimalSubspeciesDataset/images/Grizzly_Bear/242_b53958ab.jpg'),\n",
              " PosixPath('/content/drive/MyDrive/AnimalSubspeciesDataset/images/Grizzly_Bear/243_4d1fb2f2.jpg'),\n",
              " PosixPath('/content/drive/MyDrive/AnimalSubspeciesDataset/images/Grizzly_Bear/244_91ce4dde.jpg'),\n",
              " PosixPath('/content/drive/MyDrive/AnimalSubspeciesDataset/images/Grizzly_Bear/245_8074c6bd.jpg'),\n",
              " PosixPath('/content/drive/MyDrive/AnimalSubspeciesDataset/images/Grizzly_Bear/246_f3b3fcd6.jpg'),\n",
              " PosixPath('/content/drive/MyDrive/AnimalSubspeciesDataset/images/Grizzly_Bear/247_f7f3bc41.jpg'),\n",
              " PosixPath('/content/drive/MyDrive/AnimalSubspeciesDataset/images/Grizzly_Bear/248_4a95ed7b.jpg'),\n",
              " PosixPath('/content/drive/MyDrive/AnimalSubspeciesDataset/images/Grizzly_Bear/249_d7cfd48e.jpg'),\n",
              " PosixPath('/content/drive/MyDrive/AnimalSubspeciesDataset/images/Grizzly_Bear/250_025751f0.jpg'),\n",
              " PosixPath('/content/drive/MyDrive/AnimalSubspeciesDataset/images/Grizzly_Bear/251_e3fdbc6f.jpg'),\n",
              " PosixPath('/content/drive/MyDrive/AnimalSubspeciesDataset/images/Grizzly_Bear/252_f675e9f1.jpg'),\n",
              " PosixPath('/content/drive/MyDrive/AnimalSubspeciesDataset/images/Grizzly_Bear/253_6b31ae90.jpg'),\n",
              " PosixPath('/content/drive/MyDrive/AnimalSubspeciesDataset/images/Grizzly_Bear/254_25103c40.jpg'),\n",
              " PosixPath('/content/drive/MyDrive/AnimalSubspeciesDataset/images/Grizzly_Bear/255_45ddc2e4.jpg'),\n",
              " PosixPath('/content/drive/MyDrive/AnimalSubspeciesDataset/images/Grizzly_Bear/256_8867b8e0.jpg'),\n",
              " PosixPath('/content/drive/MyDrive/AnimalSubspeciesDataset/images/Grizzly_Bear/257_1bc21059.jpg'),\n",
              " PosixPath('/content/drive/MyDrive/AnimalSubspeciesDataset/images/Grizzly_Bear/258_6f0dc520.jpg'),\n",
              " PosixPath('/content/drive/MyDrive/AnimalSubspeciesDataset/images/Grizzly_Bear/259_2a421724.jpg'),\n",
              " PosixPath('/content/drive/MyDrive/AnimalSubspeciesDataset/images/Grizzly_Bear/260_b1f2a458.jpg'),\n",
              " PosixPath('/content/drive/MyDrive/AnimalSubspeciesDataset/images/Grizzly_Bear/261_e403d7db.jpg'),\n",
              " PosixPath('/content/drive/MyDrive/AnimalSubspeciesDataset/images/Grizzly_Bear/262_70ea33e0.jpg'),\n",
              " PosixPath('/content/drive/MyDrive/AnimalSubspeciesDataset/images/Grizzly_Bear/263_c69e0820.jpg'),\n",
              " PosixPath('/content/drive/MyDrive/AnimalSubspeciesDataset/images/Grizzly_Bear/264_8439aac5.jpg'),\n",
              " PosixPath('/content/drive/MyDrive/AnimalSubspeciesDataset/images/Grizzly_Bear/265_7d389425.jpg'),\n",
              " PosixPath('/content/drive/MyDrive/AnimalSubspeciesDataset/images/Grizzly_Bear/266_141b5464.jpg'),\n",
              " PosixPath('/content/drive/MyDrive/AnimalSubspeciesDataset/images/Grizzly_Bear/267_153f3b5c.jpg'),\n",
              " PosixPath('/content/drive/MyDrive/AnimalSubspeciesDataset/images/Grizzly_Bear/268_8a7f1fa0.jpg'),\n",
              " PosixPath('/content/drive/MyDrive/AnimalSubspeciesDataset/images/Grizzly_Bear/269_8da78017.jpg'),\n",
              " PosixPath('/content/drive/MyDrive/AnimalSubspeciesDataset/images/Grizzly_Bear/270_8e7adea5.jpg'),\n",
              " PosixPath('/content/drive/MyDrive/AnimalSubspeciesDataset/images/Grizzly_Bear/271_63ba5aee.jpg'),\n",
              " PosixPath('/content/drive/MyDrive/AnimalSubspeciesDataset/images/Grizzly_Bear/272_d3d85986.jpg'),\n",
              " PosixPath('/content/drive/MyDrive/AnimalSubspeciesDataset/images/Grizzly_Bear/273_bc5a53be.jpg'),\n",
              " PosixPath('/content/drive/MyDrive/AnimalSubspeciesDataset/images/Grizzly_Bear/274_74a6b125.jpg'),\n",
              " PosixPath('/content/drive/MyDrive/AnimalSubspeciesDataset/images/Grizzly_Bear/275_94b83bcb.jpg'),\n",
              " PosixPath('/content/drive/MyDrive/AnimalSubspeciesDataset/images/Grizzly_Bear/276_bab2d0f1.jpg'),\n",
              " PosixPath('/content/drive/MyDrive/AnimalSubspeciesDataset/images/Grizzly_Bear/277_506b57a4.jpg'),\n",
              " PosixPath('/content/drive/MyDrive/AnimalSubspeciesDataset/images/Grizzly_Bear/278_7a11e9ca.jpg'),\n",
              " PosixPath('/content/drive/MyDrive/AnimalSubspeciesDataset/images/Grizzly_Bear/279_7088ad99.jpg'),\n",
              " PosixPath('/content/drive/MyDrive/AnimalSubspeciesDataset/images/Grizzly_Bear/280_0f280810.jpg'),\n",
              " PosixPath('/content/drive/MyDrive/AnimalSubspeciesDataset/images/Grizzly_Bear/281_b175792b.jpg'),\n",
              " PosixPath('/content/drive/MyDrive/AnimalSubspeciesDataset/images/Grizzly_Bear/282_e99e4a3a.jpg'),\n",
              " PosixPath('/content/drive/MyDrive/AnimalSubspeciesDataset/images/Grizzly_Bear/283_a2d82a7d.jpg'),\n",
              " PosixPath('/content/drive/MyDrive/AnimalSubspeciesDataset/images/Grizzly_Bear/284_7eb42cfa.jpg'),\n",
              " PosixPath('/content/drive/MyDrive/AnimalSubspeciesDataset/images/Grizzly_Bear/285_6c2adfd3.jpg'),\n",
              " PosixPath('/content/drive/MyDrive/AnimalSubspeciesDataset/images/Grizzly_Bear/286_39c7dc25.jpg'),\n",
              " PosixPath('/content/drive/MyDrive/AnimalSubspeciesDataset/images/Grizzly_Bear/287_e74bf279.jpg'),\n",
              " PosixPath('/content/drive/MyDrive/AnimalSubspeciesDataset/images/Grizzly_Bear/288_7ba3772d.jpg'),\n",
              " PosixPath('/content/drive/MyDrive/AnimalSubspeciesDataset/images/Grizzly_Bear/289_37895ef4.jpg'),\n",
              " PosixPath('/content/drive/MyDrive/AnimalSubspeciesDataset/images/Grizzly_Bear/290_f8050bbd.jpg'),\n",
              " PosixPath('/content/drive/MyDrive/AnimalSubspeciesDataset/images/Grizzly_Bear/291_c686be40.jpg'),\n",
              " PosixPath('/content/drive/MyDrive/AnimalSubspeciesDataset/images/Grizzly_Bear/292_3a58ce26.jpg'),\n",
              " PosixPath('/content/drive/MyDrive/AnimalSubspeciesDataset/images/Grizzly_Bear/293_6a18ead9.jpg'),\n",
              " PosixPath('/content/drive/MyDrive/AnimalSubspeciesDataset/images/Grizzly_Bear/294_4006bdc1.jpg'),\n",
              " PosixPath('/content/drive/MyDrive/AnimalSubspeciesDataset/images/Grizzly_Bear/295_99a85ab3.jpg'),\n",
              " PosixPath('/content/drive/MyDrive/AnimalSubspeciesDataset/images/Grizzly_Bear/296_34ead5e2.jpg'),\n",
              " PosixPath('/content/drive/MyDrive/AnimalSubspeciesDataset/images/Grizzly_Bear/297_c934e255.jpg'),\n",
              " PosixPath('/content/drive/MyDrive/AnimalSubspeciesDataset/images/Grizzly_Bear/298_81d947a8.jpg'),\n",
              " PosixPath('/content/drive/MyDrive/AnimalSubspeciesDataset/images/Grizzly_Bear/299_a14806b7.jpg'),\n",
              " PosixPath('/content/drive/MyDrive/AnimalSubspeciesDataset/images/Grizzly_Bear/300_3412c671.jpg'),\n",
              " PosixPath('/content/drive/MyDrive/AnimalSubspeciesDataset/images/Grizzly_Bear/301_1b44bba6.jpg'),\n",
              " PosixPath('/content/drive/MyDrive/AnimalSubspeciesDataset/images/Grizzly_Bear/302_5b1a74cf.jpg'),\n",
              " PosixPath('/content/drive/MyDrive/AnimalSubspeciesDataset/images/Grizzly_Bear/303_d079ca7b.jpg'),\n",
              " PosixPath('/content/drive/MyDrive/AnimalSubspeciesDataset/images/Grizzly_Bear/304_0b82d3ec.jpg'),\n",
              " PosixPath('/content/drive/MyDrive/AnimalSubspeciesDataset/images/Grizzly_Bear/305_eb3e0cbb.jpg'),\n",
              " PosixPath('/content/drive/MyDrive/AnimalSubspeciesDataset/images/Grizzly_Bear/306_af6d0846.jpg'),\n",
              " PosixPath('/content/drive/MyDrive/AnimalSubspeciesDataset/images/Grizzly_Bear/307_2130177a.jpg'),\n",
              " PosixPath('/content/drive/MyDrive/AnimalSubspeciesDataset/images/Grizzly_Bear/308_a38e0e97.jpg'),\n",
              " PosixPath('/content/drive/MyDrive/AnimalSubspeciesDataset/images/Grizzly_Bear/309_78847643.jpg'),\n",
              " PosixPath('/content/drive/MyDrive/AnimalSubspeciesDataset/images/Grizzly_Bear/310_bf114269.jpg'),\n",
              " PosixPath('/content/drive/MyDrive/AnimalSubspeciesDataset/images/Grizzly_Bear/311_95c132d9.jpg'),\n",
              " PosixPath('/content/drive/MyDrive/AnimalSubspeciesDataset/images/Grizzly_Bear/312_673acbfb.jpg'),\n",
              " PosixPath('/content/drive/MyDrive/AnimalSubspeciesDataset/images/Grizzly_Bear/313_83e0990d.jpg'),\n",
              " PosixPath('/content/drive/MyDrive/AnimalSubspeciesDataset/images/Grizzly_Bear/314_74ed93ff.jpg'),\n",
              " PosixPath('/content/drive/MyDrive/AnimalSubspeciesDataset/images/Grizzly_Bear/315_aff7b733.jpg'),\n",
              " PosixPath('/content/drive/MyDrive/AnimalSubspeciesDataset/images/Grizzly_Bear/316_54b6f725.jpg'),\n",
              " PosixPath('/content/drive/MyDrive/AnimalSubspeciesDataset/images/Grizzly_Bear/317_d061a905.jpg'),\n",
              " PosixPath('/content/drive/MyDrive/AnimalSubspeciesDataset/images/Grizzly_Bear/318_470e0786.jpg'),\n",
              " PosixPath('/content/drive/MyDrive/AnimalSubspeciesDataset/images/Grizzly_Bear/319_b0fbf92d.jpg'),\n",
              " PosixPath('/content/drive/MyDrive/AnimalSubspeciesDataset/images/Grizzly_Bear/320_05c47da5.jpg'),\n",
              " PosixPath('/content/drive/MyDrive/AnimalSubspeciesDataset/images/Grizzly_Bear/321_b5a553c9.jpg'),\n",
              " PosixPath('/content/drive/MyDrive/AnimalSubspeciesDataset/images/Grizzly_Bear/322_c77e6266.jpg'),\n",
              " PosixPath('/content/drive/MyDrive/AnimalSubspeciesDataset/images/Grizzly_Bear/323_ace687cf.jpg'),\n",
              " PosixPath('/content/drive/MyDrive/AnimalSubspeciesDataset/images/Grizzly_Bear/324_9f67fc26.jpg'),\n",
              " PosixPath('/content/drive/MyDrive/AnimalSubspeciesDataset/images/Grizzly_Bear/325_df6e6951.jpg'),\n",
              " PosixPath('/content/drive/MyDrive/AnimalSubspeciesDataset/images/Grizzly_Bear/326_201321ea.jpg'),\n",
              " PosixPath('/content/drive/MyDrive/AnimalSubspeciesDataset/images/Grizzly_Bear/327_1b42497e.jpg'),\n",
              " PosixPath('/content/drive/MyDrive/AnimalSubspeciesDataset/images/Grizzly_Bear/328_9a9a482e.jpg'),\n",
              " PosixPath('/content/drive/MyDrive/AnimalSubspeciesDataset/images/Grizzly_Bear/329_b83dba2f.jpg'),\n",
              " PosixPath('/content/drive/MyDrive/AnimalSubspeciesDataset/images/Grizzly_Bear/330_50e0f700.jpg'),\n",
              " PosixPath('/content/drive/MyDrive/AnimalSubspeciesDataset/images/Grizzly_Bear/331_54892c15.jpg'),\n",
              " PosixPath('/content/drive/MyDrive/AnimalSubspeciesDataset/images/Grizzly_Bear/332_8925c99e.jpg'),\n",
              " PosixPath('/content/drive/MyDrive/AnimalSubspeciesDataset/images/Grizzly_Bear/333_0a5c812a.jpg'),\n",
              " PosixPath('/content/drive/MyDrive/AnimalSubspeciesDataset/images/Grizzly_Bear/334_4c2ec5a2.jpg'),\n",
              " PosixPath('/content/drive/MyDrive/AnimalSubspeciesDataset/images/Grizzly_Bear/335_7268f7ca.jpg'),\n",
              " PosixPath('/content/drive/MyDrive/AnimalSubspeciesDataset/images/Grizzly_Bear/336_0413cd17.jpg'),\n",
              " PosixPath('/content/drive/MyDrive/AnimalSubspeciesDataset/images/Grizzly_Bear/337_10e4defe.jpg'),\n",
              " PosixPath('/content/drive/MyDrive/AnimalSubspeciesDataset/images/Grizzly_Bear/338_a950e505.jpg'),\n",
              " PosixPath('/content/drive/MyDrive/AnimalSubspeciesDataset/images/Grizzly_Bear/339_346779f9.jpg'),\n",
              " PosixPath('/content/drive/MyDrive/AnimalSubspeciesDataset/images/Grizzly_Bear/340_3b18c8ba.jpg'),\n",
              " PosixPath('/content/drive/MyDrive/AnimalSubspeciesDataset/images/Grizzly_Bear/341_011a9a99.jpg'),\n",
              " PosixPath('/content/drive/MyDrive/AnimalSubspeciesDataset/images/Grizzly_Bear/342_d456a2b5.jpg'),\n",
              " PosixPath('/content/drive/MyDrive/AnimalSubspeciesDataset/images/Grizzly_Bear/343_f7afc3e8.jpg'),\n",
              " PosixPath('/content/drive/MyDrive/AnimalSubspeciesDataset/images/Grizzly_Bear/344_e8176742.jpg'),\n",
              " PosixPath('/content/drive/MyDrive/AnimalSubspeciesDataset/images/Grizzly_Bear/345_71a6acc8.jpg'),\n",
              " PosixPath('/content/drive/MyDrive/AnimalSubspeciesDataset/images/Grizzly_Bear/346_a0635ad8.jpg'),\n",
              " PosixPath('/content/drive/MyDrive/AnimalSubspeciesDataset/images/Grizzly_Bear/347_9d3ba449.jpg'),\n",
              " PosixPath('/content/drive/MyDrive/AnimalSubspeciesDataset/images/Grizzly_Bear/348_ebfef61d.jpg'),\n",
              " PosixPath('/content/drive/MyDrive/AnimalSubspeciesDataset/images/Grizzly_Bear/349_0627a015.jpg'),\n",
              " PosixPath('/content/drive/MyDrive/AnimalSubspeciesDataset/images/Grizzly_Bear/350_b807b0bf.jpg'),\n",
              " PosixPath('/content/drive/MyDrive/AnimalSubspeciesDataset/images/Grizzly_Bear/351_ef2a6fed.jpg'),\n",
              " PosixPath('/content/drive/MyDrive/AnimalSubspeciesDataset/images/Grizzly_Bear/352_40d0ed50.jpg'),\n",
              " PosixPath('/content/drive/MyDrive/AnimalSubspeciesDataset/images/Grizzly_Bear/353_5e99bc83.jpg'),\n",
              " PosixPath('/content/drive/MyDrive/AnimalSubspeciesDataset/images/Grizzly_Bear/354_32eede77.jpg'),\n",
              " PosixPath('/content/drive/MyDrive/AnimalSubspeciesDataset/images/Grizzly_Bear/355_3463a590.jpg'),\n",
              " PosixPath('/content/drive/MyDrive/AnimalSubspeciesDataset/images/Grizzly_Bear/356_2e005a36.jpg'),\n",
              " PosixPath('/content/drive/MyDrive/AnimalSubspeciesDataset/images/Grizzly_Bear/357_8538552d.jpg'),\n",
              " PosixPath('/content/drive/MyDrive/AnimalSubspeciesDataset/images/Grizzly_Bear/358_13b3beb3.jpg'),\n",
              " PosixPath('/content/drive/MyDrive/AnimalSubspeciesDataset/images/Grizzly_Bear/359_724024df.jpg'),\n",
              " PosixPath('/content/drive/MyDrive/AnimalSubspeciesDataset/images/Grizzly_Bear/360_98cdd03e.jpg'),\n",
              " PosixPath('/content/drive/MyDrive/AnimalSubspeciesDataset/images/Grizzly_Bear/361_6aef13aa.jpg'),\n",
              " PosixPath('/content/drive/MyDrive/AnimalSubspeciesDataset/images/Grizzly_Bear/362_e76139fe.jpg'),\n",
              " PosixPath('/content/drive/MyDrive/AnimalSubspeciesDataset/images/Grizzly_Bear/363_3fcd43a5.jpg'),\n",
              " PosixPath('/content/drive/MyDrive/AnimalSubspeciesDataset/images/Grizzly_Bear/364_28bd7675.jpg'),\n",
              " PosixPath('/content/drive/MyDrive/AnimalSubspeciesDataset/images/Grizzly_Bear/365_1444d522.jpg'),\n",
              " PosixPath('/content/drive/MyDrive/AnimalSubspeciesDataset/images/Grizzly_Bear/366_0568f766.jpg'),\n",
              " PosixPath('/content/drive/MyDrive/AnimalSubspeciesDataset/images/Grizzly_Bear/367_e39f333d.jpg'),\n",
              " PosixPath('/content/drive/MyDrive/AnimalSubspeciesDataset/images/Grizzly_Bear/368_35dfeae2.jpg'),\n",
              " PosixPath('/content/drive/MyDrive/AnimalSubspeciesDataset/images/Grizzly_Bear/369_ceaf229d.jpg'),\n",
              " PosixPath('/content/drive/MyDrive/AnimalSubspeciesDataset/images/Grizzly_Bear/370_83e0ca67.jpg'),\n",
              " PosixPath('/content/drive/MyDrive/AnimalSubspeciesDataset/images/Grizzly_Bear/371_83a57ab1.jpg'),\n",
              " PosixPath('/content/drive/MyDrive/AnimalSubspeciesDataset/images/Grizzly_Bear/372_512e3cd2.jpg'),\n",
              " PosixPath('/content/drive/MyDrive/AnimalSubspeciesDataset/images/Grizzly_Bear/373_ba9744c9.jpg'),\n",
              " PosixPath('/content/drive/MyDrive/AnimalSubspeciesDataset/images/Grizzly_Bear/374_a05355fe.jpg'),\n",
              " PosixPath('/content/drive/MyDrive/AnimalSubspeciesDataset/images/Grizzly_Bear/375_4d04ccb9.jpg'),\n",
              " PosixPath('/content/drive/MyDrive/AnimalSubspeciesDataset/images/Grizzly_Bear/376_c27d7656.jpg'),\n",
              " PosixPath('/content/drive/MyDrive/AnimalSubspeciesDataset/images/Grizzly_Bear/377_0329f199.jpg'),\n",
              " PosixPath('/content/drive/MyDrive/AnimalSubspeciesDataset/images/Grizzly_Bear/378_f2c6dce5.jpg'),\n",
              " PosixPath('/content/drive/MyDrive/AnimalSubspeciesDataset/images/Grizzly_Bear/379_753ae8f6.jpg'),\n",
              " PosixPath('/content/drive/MyDrive/AnimalSubspeciesDataset/images/Grizzly_Bear/380_d6161477.jpg'),\n",
              " PosixPath('/content/drive/MyDrive/AnimalSubspeciesDataset/images/Grizzly_Bear/381_a20b1842.jpg'),\n",
              " PosixPath('/content/drive/MyDrive/AnimalSubspeciesDataset/images/Grizzly_Bear/382_6c8f605c.jpg'),\n",
              " PosixPath('/content/drive/MyDrive/AnimalSubspeciesDataset/images/Grizzly_Bear/383_0ccf36a8.jpg'),\n",
              " PosixPath('/content/drive/MyDrive/AnimalSubspeciesDataset/images/Grizzly_Bear/384_b34bcb3a.jpg'),\n",
              " PosixPath('/content/drive/MyDrive/AnimalSubspeciesDataset/images/Grizzly_Bear/385_4d0a0990.jpg'),\n",
              " PosixPath('/content/drive/MyDrive/AnimalSubspeciesDataset/images/Grizzly_Bear/386_ca696d40.jpg'),\n",
              " PosixPath('/content/drive/MyDrive/AnimalSubspeciesDataset/images/Grizzly_Bear/387_8d1ff6b1.jpg'),\n",
              " PosixPath('/content/drive/MyDrive/AnimalSubspeciesDataset/images/Grizzly_Bear/388_8db6c43f.jpg'),\n",
              " PosixPath('/content/drive/MyDrive/AnimalSubspeciesDataset/images/Grizzly_Bear/389_044b27fc.jpg'),\n",
              " PosixPath('/content/drive/MyDrive/AnimalSubspeciesDataset/images/Grizzly_Bear/390_a969ac41.jpg'),\n",
              " PosixPath('/content/drive/MyDrive/AnimalSubspeciesDataset/images/Grizzly_Bear/391_94ab0919.jpg'),\n",
              " PosixPath('/content/drive/MyDrive/AnimalSubspeciesDataset/images/Grizzly_Bear/392_1c10fa6a.jpg'),\n",
              " PosixPath('/content/drive/MyDrive/AnimalSubspeciesDataset/images/Grizzly_Bear/393_6422a68d.jpg'),\n",
              " PosixPath('/content/drive/MyDrive/AnimalSubspeciesDataset/images/Grizzly_Bear/394_a3e0a285.jpg'),\n",
              " PosixPath('/content/drive/MyDrive/AnimalSubspeciesDataset/images/Grizzly_Bear/395_af1d5250.jpg'),\n",
              " PosixPath('/content/drive/MyDrive/AnimalSubspeciesDataset/images/Grizzly_Bear/396_e2962c20.jpg'),\n",
              " PosixPath('/content/drive/MyDrive/AnimalSubspeciesDataset/images/Grizzly_Bear/397_6a0cfb50.jpg'),\n",
              " PosixPath('/content/drive/MyDrive/AnimalSubspeciesDataset/images/Grizzly_Bear/398_69da8b41.jpg'),\n",
              " PosixPath('/content/drive/MyDrive/AnimalSubspeciesDataset/images/Grizzly_Bear/399_5232e3fc.jpg'),\n",
              " PosixPath('/content/drive/MyDrive/AnimalSubspeciesDataset/images/Grizzly_Bear/400_2f071fa6.jpg'),\n",
              " PosixPath('/content/drive/MyDrive/AnimalSubspeciesDataset/images/Grizzly_Bear/401_718ca26c.jpg'),\n",
              " PosixPath('/content/drive/MyDrive/AnimalSubspeciesDataset/images/Grizzly_Bear/402_6b50d152.jpg'),\n",
              " PosixPath('/content/drive/MyDrive/AnimalSubspeciesDataset/images/Grizzly_Bear/403_7397dde7.jpg'),\n",
              " PosixPath('/content/drive/MyDrive/AnimalSubspeciesDataset/images/Grizzly_Bear/404_2f5d1d74.jpg'),\n",
              " PosixPath('/content/drive/MyDrive/AnimalSubspeciesDataset/images/Grizzly_Bear/405_ba569e63.jpg'),\n",
              " PosixPath('/content/drive/MyDrive/AnimalSubspeciesDataset/images/Grizzly_Bear/406_f4482e50.jpg'),\n",
              " PosixPath('/content/drive/MyDrive/AnimalSubspeciesDataset/images/Grizzly_Bear/407_76303a58.jpg'),\n",
              " PosixPath('/content/drive/MyDrive/AnimalSubspeciesDataset/images/Grizzly_Bear/408_ebc2c3ff.jpg'),\n",
              " PosixPath('/content/drive/MyDrive/AnimalSubspeciesDataset/images/Grizzly_Bear/409_afaddbdc.jpg'),\n",
              " PosixPath('/content/drive/MyDrive/AnimalSubspeciesDataset/images/Grizzly_Bear/410_a30694f3.jpg'),\n",
              " PosixPath('/content/drive/MyDrive/AnimalSubspeciesDataset/images/Grizzly_Bear/411_3ab67806.jpg'),\n",
              " PosixPath('/content/drive/MyDrive/AnimalSubspeciesDataset/images/Grizzly_Bear/412_9dfe3a4c.jpg'),\n",
              " PosixPath('/content/drive/MyDrive/AnimalSubspeciesDataset/images/Grizzly_Bear/413_33b9e386.jpg'),\n",
              " PosixPath('/content/drive/MyDrive/AnimalSubspeciesDataset/images/Grizzly_Bear/414_4a353b74.jpg'),\n",
              " PosixPath('/content/drive/MyDrive/AnimalSubspeciesDataset/images/Grizzly_Bear/415_b6671e51.jpg'),\n",
              " PosixPath('/content/drive/MyDrive/AnimalSubspeciesDataset/images/Grizzly_Bear/416_214d2881.jpg'),\n",
              " PosixPath('/content/drive/MyDrive/AnimalSubspeciesDataset/images/Grizzly_Bear/417_343bf34b.jpg'),\n",
              " PosixPath('/content/drive/MyDrive/AnimalSubspeciesDataset/images/Grizzly_Bear/418_d6f05db2.jpg'),\n",
              " PosixPath('/content/drive/MyDrive/AnimalSubspeciesDataset/images/Grizzly_Bear/419_ef6a79a7.jpg'),\n",
              " PosixPath('/content/drive/MyDrive/AnimalSubspeciesDataset/images/Grizzly_Bear/420_1c8a1e93.jpg'),\n",
              " PosixPath('/content/drive/MyDrive/AnimalSubspeciesDataset/images/Grizzly_Bear/421_103ee88d.jpg'),\n",
              " PosixPath('/content/drive/MyDrive/AnimalSubspeciesDataset/images/Grizzly_Bear/422_653cebd1.jpg'),\n",
              " PosixPath('/content/drive/MyDrive/AnimalSubspeciesDataset/images/Grizzly_Bear/423_48dd4bc1.jpg'),\n",
              " PosixPath('/content/drive/MyDrive/AnimalSubspeciesDataset/images/Grizzly_Bear/424_9af656dd.jpg'),\n",
              " PosixPath('/content/drive/MyDrive/AnimalSubspeciesDataset/images/Grizzly_Bear/425_cab1942a.jpg'),\n",
              " PosixPath('/content/drive/MyDrive/AnimalSubspeciesDataset/images/Grizzly_Bear/426_6f44e825.jpg'),\n",
              " PosixPath('/content/drive/MyDrive/AnimalSubspeciesDataset/images/Grizzly_Bear/427_bfbd4ea7.jpg'),\n",
              " PosixPath('/content/drive/MyDrive/AnimalSubspeciesDataset/images/Grizzly_Bear/428_83c99858.jpg'),\n",
              " PosixPath('/content/drive/MyDrive/AnimalSubspeciesDataset/images/Grizzly_Bear/429_afc529b9.jpg'),\n",
              " PosixPath('/content/drive/MyDrive/AnimalSubspeciesDataset/images/Grizzly_Bear/430_9cdd277a.jpg'),\n",
              " PosixPath('/content/drive/MyDrive/AnimalSubspeciesDataset/images/Grizzly_Bear/431_6aefb226.jpg'),\n",
              " PosixPath('/content/drive/MyDrive/AnimalSubspeciesDataset/images/Grizzly_Bear/432_490e34b9.jpg'),\n",
              " PosixPath('/content/drive/MyDrive/AnimalSubspeciesDataset/images/Grizzly_Bear/433_a625b729.jpg'),\n",
              " PosixPath('/content/drive/MyDrive/AnimalSubspeciesDataset/images/Grizzly_Bear/434_d95f3322.jpg'),\n",
              " PosixPath('/content/drive/MyDrive/AnimalSubspeciesDataset/images/Grizzly_Bear/435_ae35e723.jpg'),\n",
              " PosixPath('/content/drive/MyDrive/AnimalSubspeciesDataset/images/Grizzly_Bear/436_7b75b7ea.jpg'),\n",
              " PosixPath('/content/drive/MyDrive/AnimalSubspeciesDataset/images/Grizzly_Bear/437_094c58e5.jpg'),\n",
              " PosixPath('/content/drive/MyDrive/AnimalSubspeciesDataset/images/Grizzly_Bear/438_f06bb93e.jpg'),\n",
              " PosixPath('/content/drive/MyDrive/AnimalSubspeciesDataset/images/Grizzly_Bear/439_4281201c.jpg'),\n",
              " PosixPath('/content/drive/MyDrive/AnimalSubspeciesDataset/images/Grizzly_Bear/440_3928b355.jpg'),\n",
              " PosixPath('/content/drive/MyDrive/AnimalSubspeciesDataset/images/Grizzly_Bear/441_cd3229fc.jpg'),\n",
              " PosixPath('/content/drive/MyDrive/AnimalSubspeciesDataset/images/Grizzly_Bear/442_4a070daf.jpg'),\n",
              " PosixPath('/content/drive/MyDrive/AnimalSubspeciesDataset/images/Grizzly_Bear/443_075c4e51.jpg'),\n",
              " PosixPath('/content/drive/MyDrive/AnimalSubspeciesDataset/images/Grizzly_Bear/444_749db255.jpg'),\n",
              " PosixPath('/content/drive/MyDrive/AnimalSubspeciesDataset/images/Grizzly_Bear/445_3f1ae12b.jpg'),\n",
              " PosixPath('/content/drive/MyDrive/AnimalSubspeciesDataset/images/Grizzly_Bear/446_1d9b38f2.jpg')]"
            ]
          },
          "metadata": {},
          "execution_count": 4
        }
      ]
    },
    {
      "cell_type": "markdown",
      "source": [
        "##4.Data Standardization (Image Preprocessing)"
      ],
      "metadata": {
        "id": "MHZlJcJkPim8"
      }
    },
    {
      "cell_type": "markdown",
      "source": [
        "**Neural networks typically require images to be of a uniform size.**"
      ],
      "metadata": {
        "id": "CRtQL68L7mHO"
      }
    },
    {
      "cell_type": "markdown",
      "source": [
        "**Steps for Data Standardization:**"
      ],
      "metadata": {
        "id": "ZsakgwgI7pob"
      }
    },
    {
      "cell_type": "markdown",
      "source": [
        "*   Install Pillow"
      ],
      "metadata": {
        "id": "ltHXGJth7w5j"
      }
    },
    {
      "cell_type": "code",
      "source": [
        "!pip install Pillow"
      ],
      "metadata": {
        "id": "NKOGr0dwPkKy",
        "colab": {
          "base_uri": "https://localhost:8080/"
        },
        "outputId": "ea234283-e59a-4b04-9b19-14201451dbbf"
      },
      "execution_count": 5,
      "outputs": [
        {
          "output_type": "stream",
          "name": "stdout",
          "text": [
            "Requirement already satisfied: Pillow in /usr/local/lib/python3.11/dist-packages (11.2.1)\n"
          ]
        }
      ]
    },
    {
      "cell_type": "markdown",
      "source": [
        "*  Import necessary libraries:"
      ],
      "metadata": {
        "id": "_HYRdYw5Pmge"
      }
    },
    {
      "cell_type": "code",
      "source": [
        "from PIL import Image\n",
        "import glob\n",
        "import os"
      ],
      "metadata": {
        "id": "wp8vpwYePnHX"
      },
      "execution_count": null,
      "outputs": []
    },
    {
      "cell_type": "markdown",
      "source": [
        "*  Define target size: A common size for image classification models is 224x224 or 128x128."
      ],
      "metadata": {
        "id": "IwP6TaU0Poto"
      }
    },
    {
      "cell_type": "code",
      "source": [
        "IMG_WIDTH = 224\n",
        "IMG_HEIGHT = 224\n",
        "TARGET_SIZE = (IMG_WIDTH, IMG_HEIGHT)"
      ],
      "metadata": {
        "id": "P1rAtH3uPqKk"
      },
      "execution_count": null,
      "outputs": []
    },
    {
      "cell_type": "markdown",
      "source": [
        "*  Batch Resize Images:"
      ],
      "metadata": {
        "id": "eemqMO43wt3f"
      }
    },
    {
      "cell_type": "code",
      "source": [
        "input_base_dir = Path().cwd()/\"images\" # Where your downloaded images are\n",
        "output_base_dir = Path().cwd()/\"processed_images\"\n",
        "os.makedirs(output_base_dir, exist_ok=True)\n",
        "\n",
        "for class_folder in os.listdir(input_base_dir):\n",
        "    class_input_path = os.path.join(input_base_dir, class_folder)\n",
        "    class_output_path = os.path.join(output_base_dir, class_folder)\n",
        "    os.makedirs(class_output_path, exist_ok=True)\n",
        "\n",
        "    if os.path.isdir(class_input_path):\n",
        "        print(f\"Processing images in: {class_folder}\")\n",
        "        for img_file in glob.glob(os.path.join(class_input_path, '*.*')):\n",
        "            try:\n",
        "                with Image.open(img_file) as img:\n",
        "                    img = img.resize(TARGET_SIZE)\n",
        "                    # Save with original filename in the new processed directory\n",
        "                    img_name = os.path.basename(img_file)\n",
        "                    img.save(os.path.join(class_output_path, img_name))\n",
        "            except Exception as e:\n",
        "                print(f\"Could not process {img_file}: {e}\")\n",
        "print(\"Image standardization complete.\")"
      ],
      "metadata": {
        "colab": {
          "base_uri": "https://localhost:8080/"
        },
        "collapsed": true,
        "id": "RkSWZoTAwuYb",
        "outputId": "3b09cbc3-3ffc-474a-bd03-778fe630a97e"
      },
      "execution_count": null,
      "outputs": [
        {
          "output_type": "stream",
          "name": "stdout",
          "text": [
            "Processing images in: Golden_Retriever\n",
            "Processing images in: Siamese_Cat\n",
            "Processing images in: Bengal_Tiger\n",
            "Processing images in: African_Elephant\n",
            "Processing images in: Emperor_Penguin\n",
            "Processing images in: Red_Panda\n",
            "Processing images in: Blue_Jay\n",
            "Processing images in: Grizzly_Bear\n",
            "Image standardization complete.\n"
          ]
        }
      ]
    },
    {
      "cell_type": "markdown",
      "source": [
        "##5.Creating Dataset (Splitting into Train, Validation, Test)"
      ],
      "metadata": {
        "id": "qXcTVeYFwv7t"
      }
    },
    {
      "cell_type": "markdown",
      "source": [
        "**Steps for Splitting the Dataset:**"
      ],
      "metadata": {
        "id": "4aa_NCfT8hUm"
      }
    },
    {
      "cell_type": "markdown",
      "source": [
        "*   Install split_folders:"
      ],
      "metadata": {
        "id": "YMAhQTZA8mQF"
      }
    },
    {
      "cell_type": "code",
      "source": [
        "!pip install split_folders"
      ],
      "metadata": {
        "colab": {
          "base_uri": "https://localhost:8080/"
        },
        "id": "SBd7F8WDzg9p",
        "outputId": "dd8f67ab-e941-4596-b793-bbcb5f3684b4"
      },
      "execution_count": null,
      "outputs": [
        {
          "output_type": "stream",
          "name": "stdout",
          "text": [
            "Collecting split_folders\n",
            "  Downloading split_folders-0.5.1-py3-none-any.whl.metadata (6.2 kB)\n",
            "Downloading split_folders-0.5.1-py3-none-any.whl (8.4 kB)\n",
            "Installing collected packages: split_folders\n",
            "Successfully installed split_folders-0.5.1\n"
          ]
        }
      ]
    },
    {
      "cell_type": "markdown",
      "source": [
        "*  Import the library:"
      ],
      "metadata": {
        "id": "ISfzuIsjzjtC"
      }
    },
    {
      "cell_type": "code",
      "source": [
        "import splitfolders"
      ],
      "metadata": {
        "id": "v7p1yhAMzkpI"
      },
      "execution_count": null,
      "outputs": []
    },
    {
      "cell_type": "markdown",
      "source": [
        "*  Perform the split:"
      ],
      "metadata": {
        "id": "4K2l-ODSzmgj"
      }
    },
    {
      "cell_type": "markdown",
      "source": [
        "**Common ratios are 70% for training, 15% for validation, and 15% for testing.**"
      ],
      "metadata": {
        "id": "tPoffZCx8vsZ"
      }
    },
    {
      "cell_type": "code",
      "source": [
        "input_folder = Path().cwd()/\"processed_images\"\n",
        "output_folder = Path().cwd()/\"dataset_splits\" # This will be the output directory for your splits\n",
        "\n",
        "# Split with a ratio of 70% training, 15% validation, 15% testing\n",
        "# set 'seed' for reproducibility\n",
        "# 'group_prefix' is useful if you have multiple datasets and want to prefix the output folders\n",
        "splitfolders.ratio(input_folder, output=output_folder, seed=42, ratio=(0.7, 0.15, 0.15), group_prefix=None)\n",
        "\n",
        "print(\"Dataset splitting complete.\")"
      ],
      "metadata": {
        "colab": {
          "base_uri": "https://localhost:8080/"
        },
        "id": "uouao88ozm6P",
        "outputId": "c8fcad34-e520-42f5-8e32-7bc8139d3ba5"
      },
      "execution_count": null,
      "outputs": [
        {
          "output_type": "stream",
          "name": "stderr",
          "text": [
            "Copying files: 3476 files [01:25, 40.69 files/s]"
          ]
        },
        {
          "output_type": "stream",
          "name": "stdout",
          "text": [
            "Dataset splitting complete.\n"
          ]
        },
        {
          "output_type": "stream",
          "name": "stderr",
          "text": [
            "\n"
          ]
        }
      ]
    },
    {
      "cell_type": "markdown",
      "source": [
        "##6.Verification"
      ],
      "metadata": {
        "id": "SYDMXc3Lzqar"
      }
    },
    {
      "cell_type": "code",
      "source": [
        "import os\n",
        "\n",
        "split_base_path = Path().cwd()/\"dataset_splits\"\n",
        "\n",
        "for split_type in ['train', 'val', 'test']:\n",
        "    split_path = os.path.join(split_base_path, split_type)\n",
        "    print(f\"\\n--- {split_type.upper()} SET ---\")\n",
        "    total_images_in_split = 0\n",
        "    for class_name in os.listdir(split_path):\n",
        "        class_path = os.path.join(split_path, class_name)\n",
        "        if os.path.isdir(class_path):\n",
        "            num_images = len(os.listdir(class_path))\n",
        "            print(f\"  {class_name}: {num_images} images\")\n",
        "            total_images_in_split += num_images\n",
        "    print(f\"Total images in {split_type} set: {total_images_in_split}\")"
      ],
      "metadata": {
        "colab": {
          "base_uri": "https://localhost:8080/"
        },
        "id": "eSaofSZGzrjX",
        "outputId": "c5868f2e-ce02-45e1-ab2e-fe09fb5b6df1"
      },
      "execution_count": null,
      "outputs": [
        {
          "output_type": "stream",
          "name": "stdout",
          "text": [
            "\n",
            "--- TRAIN SET ---\n",
            "  Golden_Retriever: 263 images\n",
            "  Siamese_Cat: 272 images\n",
            "  Bengal_Tiger: 322 images\n",
            "  African_Elephant: 308 images\n",
            "  Emperor_Penguin: 294 images\n",
            "  Red_Panda: 312 images\n",
            "  Blue_Jay: 343 images\n",
            "  Grizzly_Bear: 317 images\n",
            "Total images in train set: 2431\n",
            "\n",
            "--- VAL SET ---\n",
            "  Golden_Retriever: 56 images\n",
            "  Siamese_Cat: 58 images\n",
            "  Bengal_Tiger: 69 images\n",
            "  African_Elephant: 66 images\n",
            "  Emperor_Penguin: 63 images\n",
            "  Red_Panda: 67 images\n",
            "  Blue_Jay: 73 images\n",
            "  Grizzly_Bear: 67 images\n",
            "Total images in val set: 519\n",
            "\n",
            "--- TEST SET ---\n",
            "  Golden_Retriever: 57 images\n",
            "  Siamese_Cat: 59 images\n",
            "  Bengal_Tiger: 69 images\n",
            "  African_Elephant: 66 images\n",
            "  Emperor_Penguin: 63 images\n",
            "  Red_Panda: 68 images\n",
            "  Blue_Jay: 75 images\n",
            "  Grizzly_Bear: 69 images\n",
            "Total images in test set: 526\n"
          ]
        }
      ]
    }
  ]
}